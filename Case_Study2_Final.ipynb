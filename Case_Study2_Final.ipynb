{
 "cells": [
  {
   "cell_type": "code",
   "execution_count": 0,
   "metadata": {
    "colab": {
     "base_uri": "https://localhost:8080/",
     "height": 70
    },
    "colab_type": "code",
    "id": "MuTeUO51FkX7",
    "outputId": "e12792ef-f4ee-46a0-8336-da5a1abe8644"
   },
   "outputs": [
    {
     "name": "stderr",
     "output_type": "stream",
     "text": [
      "/usr/local/lib/python3.6/dist-packages/statsmodels/tools/_testing.py:19: FutureWarning: pandas.util.testing is deprecated. Use the functions in the public API at pandas.testing instead.\n",
      "  import pandas.util.testing as tm\n"
     ]
    },
    {
     "data": {
      "text/html": [
       "        <script type=\"text/javascript\">\n",
       "        window.PlotlyConfig = {MathJaxConfig: 'local'};\n",
       "        if (window.MathJax) {MathJax.Hub.Config({SVG: {font: \"STIX-Web\"}});}\n",
       "        if (typeof require !== 'undefined') {\n",
       "        require.undef(\"plotly\");\n",
       "        requirejs.config({\n",
       "            paths: {\n",
       "                'plotly': ['https://cdn.plot.ly/plotly-latest.min']\n",
       "            }\n",
       "        });\n",
       "        require(['plotly'], function(Plotly) {\n",
       "            window._Plotly = Plotly;\n",
       "        });\n",
       "        }\n",
       "        </script>\n",
       "        "
      ]
     },
     "metadata": {
      "tags": []
     },
     "output_type": "display_data"
    }
   ],
   "source": [
    "import numpy as np\n",
    "import pandas as pd\n",
    "import seaborn as sns\n",
    "import matplotlib.pyplot as plt\n",
    "from subprocess import check_output\n",
    "%matplotlib inline\n",
    "import plotly.offline as py\n",
    "py.init_notebook_mode(connected=True)\n",
    "import plotly.graph_objs as go\n",
    "import plotly.tools as tls\n",
    "import os\n",
    "import gc\n",
    "import warnings\n",
    "import re\n",
    "from nltk.corpus import stopwords\n",
    "#import distance\n",
    "from nltk.stem import PorterStemmer\n",
    "warnings.filterwarnings(\"ignore\")\n"
   ]
  },
  {
   "cell_type": "code",
   "execution_count": 0,
   "metadata": {
    "colab": {
     "base_uri": "https://localhost:8080/",
     "height": 34
    },
    "colab_type": "code",
    "id": "a1NX4vg6FkYh",
    "outputId": "f7d9933b-987d-4ca9-985b-149c1acc5701"
   },
   "outputs": [
    {
     "name": "stdout",
     "output_type": "stream",
     "text": [
      "Number of data points: 420285\n"
     ]
    }
   ],
   "source": [
    "train_total_df = pd.read_csv(\"/content/drive/My Drive/case_study2/final_train_2.csv\")\n",
    "\n",
    "print(\"Number of data points:\",train_total_df.shape[0])"
   ]
  },
  {
   "cell_type": "code",
   "execution_count": 0,
   "metadata": {
    "colab": {
     "base_uri": "https://localhost:8080/",
     "height": 34
    },
    "colab_type": "code",
    "id": "_0jkrIwdFkYx",
    "outputId": "8b900336-8187-4b5c-cea5-9d29f82090d1"
   },
   "outputs": [
    {
     "name": "stdout",
     "output_type": "stream",
     "text": [
      "Number of data points: 115064\n"
     ]
    }
   ],
   "source": [
    "test_total_df = pd.read_csv(\"/content/drive/My Drive/case_study2/final_test_2.csv\")\n",
    "\n",
    "print(\"Number of data points:\",test_total_df.shape[0])"
   ]
  },
  {
   "cell_type": "code",
   "execution_count": 0,
   "metadata": {
    "colab": {
     "base_uri": "https://localhost:8080/",
     "height": 316
    },
    "colab_type": "code",
    "id": "XIHrmUovFkY4",
    "outputId": "73f22f8f-0493-495f-bfd2-3082e4c80306"
   },
   "outputs": [
    {
     "data": {
      "text/html": [
       "<div>\n",
       "<style scoped>\n",
       "    .dataframe tbody tr th:only-of-type {\n",
       "        vertical-align: middle;\n",
       "    }\n",
       "\n",
       "    .dataframe tbody tr th {\n",
       "        vertical-align: top;\n",
       "    }\n",
       "\n",
       "    .dataframe thead th {\n",
       "        text-align: right;\n",
       "    }\n",
       "</style>\n",
       "<table border=\"1\" class=\"dataframe\">\n",
       "  <thead>\n",
       "    <tr style=\"text-align: right;\">\n",
       "      <th></th>\n",
       "      <th>Unnamed: 0</th>\n",
       "      <th>Unnamed: 0.1</th>\n",
       "      <th>Unnamed: 0.1.1</th>\n",
       "      <th>Unnamed: 0.1.1.1</th>\n",
       "      <th>Store</th>\n",
       "      <th>Dept</th>\n",
       "      <th>Date</th>\n",
       "      <th>Weekly_Sales</th>\n",
       "      <th>IsHoliday</th>\n",
       "      <th>Temperature</th>\n",
       "      <th>Fuel_Price</th>\n",
       "      <th>MarkDown1</th>\n",
       "      <th>MarkDown2</th>\n",
       "      <th>MarkDown3</th>\n",
       "      <th>MarkDown4</th>\n",
       "      <th>MarkDown5</th>\n",
       "      <th>CPI</th>\n",
       "      <th>Unemployment</th>\n",
       "      <th>IsHoliday_y</th>\n",
       "      <th>Type</th>\n",
       "      <th>Size</th>\n",
       "      <th>date</th>\n",
       "      <th>Super_Bowl_Day</th>\n",
       "      <th>Labor_Day</th>\n",
       "      <th>Thanksgiving_Day</th>\n",
       "      <th>Christmas_Day</th>\n",
       "      <th>Next_Week_Of_Thanksgiving</th>\n",
       "      <th>Next_Holiday_Week_Of_Thanksgiving</th>\n",
       "      <th>Next_Week_Of_Christmas</th>\n",
       "      <th>week_of_year</th>\n",
       "      <th>month_of_year</th>\n",
       "      <th>before_Christmas_Day</th>\n",
       "      <th>low_sales_dep</th>\n",
       "      <th>last_year_sales</th>\n",
       "      <th>year</th>\n",
       "      <th>last_year_week_dept_sales</th>\n",
       "      <th>high_week_sales_dept</th>\n",
       "      <th>low_week_sales_dept</th>\n",
       "      <th>monthly_sales</th>\n",
       "      <th>prev_week</th>\n",
       "      <th>nxt_week</th>\n",
       "      <th>week_of_the_month</th>\n",
       "    </tr>\n",
       "  </thead>\n",
       "  <tbody>\n",
       "    <tr>\n",
       "      <th>0</th>\n",
       "      <td>0</td>\n",
       "      <td>0</td>\n",
       "      <td>0</td>\n",
       "      <td>0</td>\n",
       "      <td>1</td>\n",
       "      <td>1</td>\n",
       "      <td>2010-02-05</td>\n",
       "      <td>24924.50</td>\n",
       "      <td>False</td>\n",
       "      <td>42.31</td>\n",
       "      <td>2.572</td>\n",
       "      <td>0.0</td>\n",
       "      <td>0.0</td>\n",
       "      <td>0.0</td>\n",
       "      <td>0.0</td>\n",
       "      <td>0.0</td>\n",
       "      <td>211.096358</td>\n",
       "      <td>8.106</td>\n",
       "      <td>False</td>\n",
       "      <td>A</td>\n",
       "      <td>151315</td>\n",
       "      <td>1265328000</td>\n",
       "      <td>0</td>\n",
       "      <td>0</td>\n",
       "      <td>0</td>\n",
       "      <td>0</td>\n",
       "      <td>0</td>\n",
       "      <td>0</td>\n",
       "      <td>0</td>\n",
       "      <td>6</td>\n",
       "      <td>2</td>\n",
       "      <td>0</td>\n",
       "      <td>0</td>\n",
       "      <td>0.0</td>\n",
       "      <td>2010</td>\n",
       "      <td>0.0</td>\n",
       "      <td>0</td>\n",
       "      <td>0</td>\n",
       "      <td>131963.08</td>\n",
       "      <td>0.0</td>\n",
       "      <td>46039.49</td>\n",
       "      <td>1</td>\n",
       "    </tr>\n",
       "    <tr>\n",
       "      <th>1</th>\n",
       "      <td>1</td>\n",
       "      <td>1</td>\n",
       "      <td>1</td>\n",
       "      <td>143</td>\n",
       "      <td>1</td>\n",
       "      <td>2</td>\n",
       "      <td>2010-02-05</td>\n",
       "      <td>50605.27</td>\n",
       "      <td>False</td>\n",
       "      <td>42.31</td>\n",
       "      <td>2.572</td>\n",
       "      <td>0.0</td>\n",
       "      <td>0.0</td>\n",
       "      <td>0.0</td>\n",
       "      <td>0.0</td>\n",
       "      <td>0.0</td>\n",
       "      <td>211.096358</td>\n",
       "      <td>8.106</td>\n",
       "      <td>False</td>\n",
       "      <td>A</td>\n",
       "      <td>151315</td>\n",
       "      <td>1265328000</td>\n",
       "      <td>0</td>\n",
       "      <td>0</td>\n",
       "      <td>0</td>\n",
       "      <td>0</td>\n",
       "      <td>0</td>\n",
       "      <td>0</td>\n",
       "      <td>0</td>\n",
       "      <td>6</td>\n",
       "      <td>2</td>\n",
       "      <td>0</td>\n",
       "      <td>0</td>\n",
       "      <td>0.0</td>\n",
       "      <td>2010</td>\n",
       "      <td>0.0</td>\n",
       "      <td>1</td>\n",
       "      <td>0</td>\n",
       "      <td>187509.77</td>\n",
       "      <td>0.0</td>\n",
       "      <td>44682.74</td>\n",
       "      <td>1</td>\n",
       "    </tr>\n",
       "    <tr>\n",
       "      <th>2</th>\n",
       "      <td>2</td>\n",
       "      <td>2</td>\n",
       "      <td>2</td>\n",
       "      <td>286</td>\n",
       "      <td>1</td>\n",
       "      <td>3</td>\n",
       "      <td>2010-02-05</td>\n",
       "      <td>13740.12</td>\n",
       "      <td>False</td>\n",
       "      <td>42.31</td>\n",
       "      <td>2.572</td>\n",
       "      <td>0.0</td>\n",
       "      <td>0.0</td>\n",
       "      <td>0.0</td>\n",
       "      <td>0.0</td>\n",
       "      <td>0.0</td>\n",
       "      <td>211.096358</td>\n",
       "      <td>8.106</td>\n",
       "      <td>False</td>\n",
       "      <td>A</td>\n",
       "      <td>151315</td>\n",
       "      <td>1265328000</td>\n",
       "      <td>0</td>\n",
       "      <td>0</td>\n",
       "      <td>0</td>\n",
       "      <td>0</td>\n",
       "      <td>0</td>\n",
       "      <td>0</td>\n",
       "      <td>0</td>\n",
       "      <td>6</td>\n",
       "      <td>2</td>\n",
       "      <td>0</td>\n",
       "      <td>0</td>\n",
       "      <td>0.0</td>\n",
       "      <td>2010</td>\n",
       "      <td>0.0</td>\n",
       "      <td>0</td>\n",
       "      <td>0</td>\n",
       "      <td>47286.60</td>\n",
       "      <td>0.0</td>\n",
       "      <td>10887.84</td>\n",
       "      <td>1</td>\n",
       "    </tr>\n",
       "    <tr>\n",
       "      <th>3</th>\n",
       "      <td>3</td>\n",
       "      <td>3</td>\n",
       "      <td>3</td>\n",
       "      <td>429</td>\n",
       "      <td>1</td>\n",
       "      <td>4</td>\n",
       "      <td>2010-02-05</td>\n",
       "      <td>39954.04</td>\n",
       "      <td>False</td>\n",
       "      <td>42.31</td>\n",
       "      <td>2.572</td>\n",
       "      <td>0.0</td>\n",
       "      <td>0.0</td>\n",
       "      <td>0.0</td>\n",
       "      <td>0.0</td>\n",
       "      <td>0.0</td>\n",
       "      <td>211.096358</td>\n",
       "      <td>8.106</td>\n",
       "      <td>False</td>\n",
       "      <td>A</td>\n",
       "      <td>151315</td>\n",
       "      <td>1265328000</td>\n",
       "      <td>0</td>\n",
       "      <td>0</td>\n",
       "      <td>0</td>\n",
       "      <td>0</td>\n",
       "      <td>0</td>\n",
       "      <td>0</td>\n",
       "      <td>0</td>\n",
       "      <td>6</td>\n",
       "      <td>2</td>\n",
       "      <td>0</td>\n",
       "      <td>0</td>\n",
       "      <td>0.0</td>\n",
       "      <td>2010</td>\n",
       "      <td>0.0</td>\n",
       "      <td>0</td>\n",
       "      <td>0</td>\n",
       "      <td>146792.36</td>\n",
       "      <td>0.0</td>\n",
       "      <td>35351.21</td>\n",
       "      <td>1</td>\n",
       "    </tr>\n",
       "    <tr>\n",
       "      <th>4</th>\n",
       "      <td>4</td>\n",
       "      <td>4</td>\n",
       "      <td>4</td>\n",
       "      <td>572</td>\n",
       "      <td>1</td>\n",
       "      <td>5</td>\n",
       "      <td>2010-02-05</td>\n",
       "      <td>32229.38</td>\n",
       "      <td>False</td>\n",
       "      <td>42.31</td>\n",
       "      <td>2.572</td>\n",
       "      <td>0.0</td>\n",
       "      <td>0.0</td>\n",
       "      <td>0.0</td>\n",
       "      <td>0.0</td>\n",
       "      <td>0.0</td>\n",
       "      <td>211.096358</td>\n",
       "      <td>8.106</td>\n",
       "      <td>False</td>\n",
       "      <td>A</td>\n",
       "      <td>151315</td>\n",
       "      <td>1265328000</td>\n",
       "      <td>0</td>\n",
       "      <td>0</td>\n",
       "      <td>0</td>\n",
       "      <td>0</td>\n",
       "      <td>0</td>\n",
       "      <td>0</td>\n",
       "      <td>0</td>\n",
       "      <td>6</td>\n",
       "      <td>2</td>\n",
       "      <td>0</td>\n",
       "      <td>0</td>\n",
       "      <td>0.0</td>\n",
       "      <td>2010</td>\n",
       "      <td>0.0</td>\n",
       "      <td>0</td>\n",
       "      <td>0</td>\n",
       "      <td>112420.35</td>\n",
       "      <td>0.0</td>\n",
       "      <td>29620.81</td>\n",
       "      <td>1</td>\n",
       "    </tr>\n",
       "  </tbody>\n",
       "</table>\n",
       "</div>"
      ],
      "text/plain": [
       "   Unnamed: 0  Unnamed: 0.1  ...  nxt_week  week_of_the_month\n",
       "0           0             0  ...  46039.49                  1\n",
       "1           1             1  ...  44682.74                  1\n",
       "2           2             2  ...  10887.84                  1\n",
       "3           3             3  ...  35351.21                  1\n",
       "4           4             4  ...  29620.81                  1\n",
       "\n",
       "[5 rows x 42 columns]"
      ]
     },
     "execution_count": 5,
     "metadata": {
      "tags": []
     },
     "output_type": "execute_result"
    }
   ],
   "source": [
    "train_total_df.head()"
   ]
  },
  {
   "cell_type": "code",
   "execution_count": 0,
   "metadata": {
    "colab": {
     "base_uri": "https://localhost:8080/",
     "height": 218
    },
    "colab_type": "code",
    "id": "fvuhXLVBFkZD",
    "outputId": "45f1daff-b697-4260-b452-c58aa5515a81"
   },
   "outputs": [
    {
     "data": {
      "text/plain": [
       "Index(['Unnamed: 0', 'Unnamed: 0.1', 'Unnamed: 0.1.1', 'Unnamed: 0.1.1.1',\n",
       "       'Store', 'Dept', 'Date', 'IsHoliday', 'Temperature', 'Fuel_Price',\n",
       "       'MarkDown1', 'MarkDown2', 'MarkDown3', 'MarkDown4', 'MarkDown5', 'CPI',\n",
       "       'Unemployment', 'IsHoliday_y', 'Type', 'Size', 'date', 'Super_Bowl_Day',\n",
       "       'Labor_Day', 'Thanksgiving_Day', 'Christmas_Day',\n",
       "       'Next_Week_Of_Thanksgiving', 'Next_Holiday_Week_Of_Thanksgiving',\n",
       "       'Next_Week_Of_Christmas', 'week_of_year', 'month_of_year',\n",
       "       'before_Christmas_Day', 'low_sales_dep', 'last_year_sales', 'year',\n",
       "       'last_year_week_dept_sales', 'high_week_sales_dept',\n",
       "       'low_week_sales_dept', 'monthly_sales', 'prev_week', 'nxt_week',\n",
       "       'week_of_the_month'],\n",
       "      dtype='object')"
      ]
     },
     "execution_count": 6,
     "metadata": {
      "tags": []
     },
     "output_type": "execute_result"
    }
   ],
   "source": [
    "test_total_df.columns"
   ]
  },
  {
   "cell_type": "code",
   "execution_count": 0,
   "metadata": {
    "colab": {
     "base_uri": "https://localhost:8080/",
     "height": 34
    },
    "colab_type": "code",
    "id": "n_yhUUZSFkZM",
    "outputId": "8be8a9c6-5c19-4577-de68-3da14ed095b4"
   },
   "outputs": [
    {
     "name": "stdout",
     "output_type": "stream",
     "text": [
      "Shape of matrix after one hot encodig  (420285, 45)\n"
     ]
    }
   ],
   "source": [
    "#we need to do one hot \n",
    "\n",
    "from sklearn.preprocessing import OneHotEncoder \n",
    "\n",
    "onehotencoder = OneHotEncoder() \n",
    "onehotencoder.fit(train_total_df[['Store']])\n",
    "\n",
    "train_store_one_hot=onehotencoder.transform(train_total_df[['Store']])\n",
    "test_store_one_hot=onehotencoder.transform(test_total_df[['Store']])\n",
    "\n",
    "print(\"Shape of matrix after one hot encodig \",train_store_one_hot.shape)"
   ]
  },
  {
   "cell_type": "code",
   "execution_count": 0,
   "metadata": {
    "colab": {
     "base_uri": "https://localhost:8080/",
     "height": 34
    },
    "colab_type": "code",
    "id": "ncUcixqIFkZU",
    "outputId": "04dea5e5-eeea-47f7-ba35-a758e46a2e66"
   },
   "outputs": [
    {
     "name": "stdout",
     "output_type": "stream",
     "text": [
      "Shape of matrix after one hot encodig  (420285, 81)\n"
     ]
    }
   ],
   "source": [
    "dept_onehotencoder = OneHotEncoder() \n",
    "dept_onehotencoder.fit(train_total_df[['Dept']])\n",
    "\n",
    "train_dept_one_hot=dept_onehotencoder.transform(train_total_df[['Dept']])\n",
    "test_dept_one_hot=dept_onehotencoder.transform(test_total_df[['Dept']])\n",
    "\n",
    "print(\"Shape of matrix after one hot encodig \",train_dept_one_hot.shape)"
   ]
  },
  {
   "cell_type": "code",
   "execution_count": 0,
   "metadata": {
    "colab": {},
    "colab_type": "code",
    "id": "8IajxkJWFkZc"
   },
   "outputs": [],
   "source": [
    "def replace_holiday(data):\n",
    "    holiday=data.replace(to_replace=[False],value=0)\n",
    "    holiday=holiday.replace(to_replace=[True],value=1)\n",
    "    return holiday"
   ]
  },
  {
   "cell_type": "code",
   "execution_count": 0,
   "metadata": {
    "colab": {},
    "colab_type": "code",
    "id": "OHickXEwFkZi"
   },
   "outputs": [],
   "source": [
    "train_holiday=replace_holiday(train_total_df[['IsHoliday']])\n",
    "\n",
    "test_holiday=replace_holiday(test_total_df[['IsHoliday']])"
   ]
  },
  {
   "cell_type": "code",
   "execution_count": 0,
   "metadata": {
    "colab": {
     "base_uri": "https://localhost:8080/",
     "height": 402
    },
    "colab_type": "code",
    "id": "8pnu324tFkZt",
    "outputId": "806ab392-a310-4252-9305-9c22e02d6498"
   },
   "outputs": [
    {
     "data": {
      "text/html": [
       "<div>\n",
       "<style scoped>\n",
       "    .dataframe tbody tr th:only-of-type {\n",
       "        vertical-align: middle;\n",
       "    }\n",
       "\n",
       "    .dataframe tbody tr th {\n",
       "        vertical-align: top;\n",
       "    }\n",
       "\n",
       "    .dataframe thead th {\n",
       "        text-align: right;\n",
       "    }\n",
       "</style>\n",
       "<table border=\"1\" class=\"dataframe\">\n",
       "  <thead>\n",
       "    <tr style=\"text-align: right;\">\n",
       "      <th></th>\n",
       "      <th>IsHoliday</th>\n",
       "    </tr>\n",
       "  </thead>\n",
       "  <tbody>\n",
       "    <tr>\n",
       "      <th>0</th>\n",
       "      <td>0.0</td>\n",
       "    </tr>\n",
       "    <tr>\n",
       "      <th>1</th>\n",
       "      <td>0.0</td>\n",
       "    </tr>\n",
       "    <tr>\n",
       "      <th>2</th>\n",
       "      <td>0.0</td>\n",
       "    </tr>\n",
       "    <tr>\n",
       "      <th>3</th>\n",
       "      <td>0.0</td>\n",
       "    </tr>\n",
       "    <tr>\n",
       "      <th>4</th>\n",
       "      <td>0.0</td>\n",
       "    </tr>\n",
       "    <tr>\n",
       "      <th>...</th>\n",
       "      <td>...</td>\n",
       "    </tr>\n",
       "    <tr>\n",
       "      <th>420280</th>\n",
       "      <td>0.0</td>\n",
       "    </tr>\n",
       "    <tr>\n",
       "      <th>420281</th>\n",
       "      <td>0.0</td>\n",
       "    </tr>\n",
       "    <tr>\n",
       "      <th>420282</th>\n",
       "      <td>0.0</td>\n",
       "    </tr>\n",
       "    <tr>\n",
       "      <th>420283</th>\n",
       "      <td>0.0</td>\n",
       "    </tr>\n",
       "    <tr>\n",
       "      <th>420284</th>\n",
       "      <td>0.0</td>\n",
       "    </tr>\n",
       "  </tbody>\n",
       "</table>\n",
       "<p>420285 rows × 1 columns</p>\n",
       "</div>"
      ],
      "text/plain": [
       "        IsHoliday\n",
       "0             0.0\n",
       "1             0.0\n",
       "2             0.0\n",
       "3             0.0\n",
       "4             0.0\n",
       "...           ...\n",
       "420280        0.0\n",
       "420281        0.0\n",
       "420282        0.0\n",
       "420283        0.0\n",
       "420284        0.0\n",
       "\n",
       "[420285 rows x 1 columns]"
      ]
     },
     "execution_count": 10,
     "metadata": {
      "tags": []
     },
     "output_type": "execute_result"
    }
   ],
   "source": [
    "train_holiday"
   ]
  },
  {
   "cell_type": "code",
   "execution_count": 0,
   "metadata": {
    "colab": {},
    "colab_type": "code",
    "id": "1t7qy-55FkZ1"
   },
   "outputs": [],
   "source": [
    "from sklearn.preprocessing import StandardScaler\n",
    "\n",
    "\n",
    "def do_StandardScaler(train,test):\n",
    "    Standardscaler = StandardScaler()\n",
    "\n",
    "    Standardscaler.fit(train.values.reshape(-1,1))\n",
    "\n",
    "    train_number = Standardscaler.transform(train.values.reshape(-1,1))\n",
    "   \n",
    "    test_number  = Standardscaler.transform(test.values.reshape(-1,1))\n",
    "\n",
    "    print(train_number.shape)\n",
    "    \n",
    "    return train_number,test_number\n"
   ]
  },
  {
   "cell_type": "code",
   "execution_count": 0,
   "metadata": {
    "colab": {
     "base_uri": "https://localhost:8080/",
     "height": 34
    },
    "colab_type": "code",
    "id": "X_MDTi0vFkZ7",
    "outputId": "95953c3c-f22f-428d-9abc-28ba4065c7a5"
   },
   "outputs": [
    {
     "name": "stdout",
     "output_type": "stream",
     "text": [
      "(420285, 1)\n"
     ]
    }
   ],
   "source": [
    "train_temperature,test_temperature    \\\n",
    "   = do_StandardScaler(train_total_df['Temperature'],test_total_df['Temperature'])"
   ]
  },
  {
   "cell_type": "code",
   "execution_count": 0,
   "metadata": {
    "colab": {
     "base_uri": "https://localhost:8080/",
     "height": 34
    },
    "colab_type": "code",
    "id": "BSOcMWAJFkaA",
    "outputId": "54a8f9f8-eeff-4e62-b5c9-0acf192fbb12"
   },
   "outputs": [
    {
     "name": "stdout",
     "output_type": "stream",
     "text": [
      "(420285, 1)\n"
     ]
    }
   ],
   "source": [
    "train_fuel_price,test_fuel_price    \\\n",
    "   = do_StandardScaler(train_total_df['Fuel_Price'],test_total_df['Fuel_Price'])"
   ]
  },
  {
   "cell_type": "code",
   "execution_count": 0,
   "metadata": {
    "colab": {
     "base_uri": "https://localhost:8080/",
     "height": 101
    },
    "colab_type": "code",
    "id": "CohOamCfFkaG",
    "outputId": "fa51980a-eb66-4874-cc8c-cdc6c3d7ef1a"
   },
   "outputs": [
    {
     "name": "stdout",
     "output_type": "stream",
     "text": [
      "(420285, 1)\n",
      "(420285, 1)\n",
      "(420285, 1)\n",
      "(420285, 1)\n",
      "(420285, 1)\n"
     ]
    }
   ],
   "source": [
    "train_markdown1,test_markdown1   \\\n",
    "   = do_StandardScaler(train_total_df['MarkDown1'],test_total_df['MarkDown1'])\n",
    "\n",
    "train_markdown2,test_markdown2   \\\n",
    "   = do_StandardScaler(train_total_df['MarkDown2'],test_total_df['MarkDown2'])\n",
    "\n",
    "train_markdown3,test_markdown3   \\\n",
    "   = do_StandardScaler(train_total_df['MarkDown3'],test_total_df['MarkDown3'])\n",
    "\n",
    "train_markdown4,test_markdown4   \\\n",
    "   = do_StandardScaler(train_total_df['MarkDown4'],test_total_df['MarkDown4'])\n",
    "\n",
    "train_markdown5,test_markdown5   \\\n",
    "   = do_StandardScaler(train_total_df['MarkDown5'],test_total_df['MarkDown5'])"
   ]
  },
  {
   "cell_type": "code",
   "execution_count": 0,
   "metadata": {
    "colab": {},
    "colab_type": "code",
    "id": "QPuIxyTkL1sw"
   },
   "outputs": [],
   "source": [
    "test_total_df['CPI'] = test_total_df['CPI'].fillna(0)\n",
    "test_total_df['Unemployment'] = test_total_df['Unemployment'].fillna(0)"
   ]
  },
  {
   "cell_type": "code",
   "execution_count": 0,
   "metadata": {
    "colab": {
     "base_uri": "https://localhost:8080/",
     "height": 34
    },
    "colab_type": "code",
    "id": "Ap8EEmxFFkat",
    "outputId": "779bfa6a-879a-4b3f-9b4c-bed81703bd9e"
   },
   "outputs": [
    {
     "name": "stdout",
     "output_type": "stream",
     "text": [
      "(420285, 1)\n"
     ]
    }
   ],
   "source": [
    "train_cpi,test_cpi    \\\n",
    "   = do_StandardScaler(train_total_df['CPI'],test_total_df['CPI'])"
   ]
  },
  {
   "cell_type": "code",
   "execution_count": 0,
   "metadata": {
    "colab": {
     "base_uri": "https://localhost:8080/",
     "height": 34
    },
    "colab_type": "code",
    "id": "kHS9mlzIFka1",
    "outputId": "265f94b8-0e37-4c8a-9ace-6666697d1493"
   },
   "outputs": [
    {
     "name": "stdout",
     "output_type": "stream",
     "text": [
      "(420285, 1)\n"
     ]
    }
   ],
   "source": [
    "train_unemployment,test_unemployment   \\\n",
    "   = do_StandardScaler(train_total_df['Unemployment'],test_total_df['Unemployment'])"
   ]
  },
  {
   "cell_type": "code",
   "execution_count": 0,
   "metadata": {
    "colab": {
     "base_uri": "https://localhost:8080/",
     "height": 34
    },
    "colab_type": "code",
    "id": "_0LrPaZYFka7",
    "outputId": "1178f97e-c127-4d27-c8a4-c350c8948f68"
   },
   "outputs": [
    {
     "name": "stdout",
     "output_type": "stream",
     "text": [
      "Shape of matrix after one hot encodig  (420285, 3)\n"
     ]
    }
   ],
   "source": [
    "type_onehotencoder = OneHotEncoder() \n",
    "type_onehotencoder.fit(train_total_df[['Type']])\n",
    "\n",
    "train_type_one_hot=type_onehotencoder.transform(train_total_df[['Type']])\n",
    "\n",
    "test_type_one_hot=type_onehotencoder.transform(test_total_df[['Type']])\n",
    "\n",
    "print(\"Shape of matrix after one hot encodig \",train_type_one_hot.shape)"
   ]
  },
  {
   "cell_type": "code",
   "execution_count": 0,
   "metadata": {
    "colab": {
     "base_uri": "https://localhost:8080/",
     "height": 34
    },
    "colab_type": "code",
    "id": "u-mbSmmsFkbB",
    "outputId": "d2a99aad-3d24-457d-f3c6-5a17266a84de"
   },
   "outputs": [
    {
     "name": "stdout",
     "output_type": "stream",
     "text": [
      "(420285, 1)\n"
     ]
    }
   ],
   "source": [
    "train_size,test_size   \\\n",
    "   = do_StandardScaler(train_total_df['Size'],test_total_df['Size'])"
   ]
  },
  {
   "cell_type": "code",
   "execution_count": 0,
   "metadata": {
    "colab": {
     "base_uri": "https://localhost:8080/",
     "height": 34
    },
    "colab_type": "code",
    "id": "oSltAfxxHDA6",
    "outputId": "4d761780-aa9d-4860-bf9b-3680f8169000"
   },
   "outputs": [
    {
     "name": "stdout",
     "output_type": "stream",
     "text": [
      "(420285, 1)\n"
     ]
    }
   ],
   "source": [
    "train_last_year_sales,test_last_year_sales   \\\n",
    "   = do_StandardScaler(train_total_df['last_year_sales'],test_total_df['last_year_sales'])"
   ]
  },
  {
   "cell_type": "code",
   "execution_count": 0,
   "metadata": {
    "colab": {
     "base_uri": "https://localhost:8080/",
     "height": 34
    },
    "colab_type": "code",
    "id": "aRSzxX1L_1BG",
    "outputId": "64938216-b74c-4f24-d8e5-9fd61868c21b"
   },
   "outputs": [
    {
     "name": "stdout",
     "output_type": "stream",
     "text": [
      "(420285, 1)\n"
     ]
    }
   ],
   "source": [
    "train_last_year_week_dept_sales,test_last_year_week_dept_sales   \\\n",
    "   = do_StandardScaler(train_total_df['last_year_week_dept_sales'],test_total_df['last_year_week_dept_sales'])"
   ]
  },
  {
   "cell_type": "code",
   "execution_count": 0,
   "metadata": {
    "colab": {
     "base_uri": "https://localhost:8080/",
     "height": 34
    },
    "colab_type": "code",
    "id": "NOS6SePEFkbH",
    "outputId": "312d91fb-d4a8-4509-ff05-1630062e5692"
   },
   "outputs": [
    {
     "name": "stdout",
     "output_type": "stream",
     "text": [
      "Shape of matrix after one hot encodig  (420285, 53)\n"
     ]
    }
   ],
   "source": [
    "week_of_year_onehotencoder = OneHotEncoder() \n",
    "week_of_year_onehotencoder.fit(train_total_df[['week_of_year']])\n",
    "\n",
    "train_week_of_year_one_hot=week_of_year_onehotencoder.transform(train_total_df[['week_of_year']])\n",
    "\n",
    "test_week_of_year_one_hot=week_of_year_onehotencoder.transform(test_total_df[['week_of_year']])\n",
    "\n",
    "print(\"Shape of matrix after one hot encodig \",train_week_of_year_one_hot.shape)"
   ]
  },
  {
   "cell_type": "code",
   "execution_count": 0,
   "metadata": {
    "colab": {
     "base_uri": "https://localhost:8080/",
     "height": 34
    },
    "colab_type": "code",
    "id": "qOVMS18zFkbP",
    "outputId": "f403dc13-9532-4a20-a06e-f54d77812dd0"
   },
   "outputs": [
    {
     "name": "stdout",
     "output_type": "stream",
     "text": [
      "Shape of matrix after one hot encodig  (420285, 12)\n"
     ]
    }
   ],
   "source": [
    "\n",
    "\n",
    "month_of_year_onehotencoder = OneHotEncoder() \n",
    "month_of_year_onehotencoder.fit(train_total_df[['month_of_year']])\n",
    "\n",
    "train_month_of_year_one_hot=month_of_year_onehotencoder.transform(train_total_df[['month_of_year']])\n",
    "\n",
    "test_month_of_year_one_hot=month_of_year_onehotencoder.transform(test_total_df[['month_of_year']])\n",
    "\n",
    "print(\"Shape of matrix after one hot encodig \",train_month_of_year_one_hot.shape)"
   ]
  },
  {
   "cell_type": "code",
   "execution_count": 0,
   "metadata": {
    "colab": {
     "base_uri": "https://localhost:8080/",
     "height": 34
    },
    "colab_type": "code",
    "id": "CGZCguh1bIg8",
    "outputId": "ab713877-a9bb-43d1-d055-8ab053612d3e"
   },
   "outputs": [
    {
     "name": "stdout",
     "output_type": "stream",
     "text": [
      "(420285, 1)\n"
     ]
    }
   ],
   "source": [
    "train_monthly_sales,test_monthly_sales   \\\n",
    "   = do_StandardScaler(train_total_df['monthly_sales'],test_total_df['monthly_sales'])"
   ]
  },
  {
   "cell_type": "code",
   "execution_count": 0,
   "metadata": {
    "colab": {
     "base_uri": "https://localhost:8080/",
     "height": 34
    },
    "colab_type": "code",
    "id": "yUg-pwGTFynj",
    "outputId": "c697b780-9205-45b6-9833-ab1d89133085"
   },
   "outputs": [
    {
     "name": "stdout",
     "output_type": "stream",
     "text": [
      "(420285, 1)\n"
     ]
    }
   ],
   "source": [
    "train_prev_week,test_prev_week   \\\n",
    "   = do_StandardScaler(train_total_df['prev_week'],test_total_df['prev_week'])"
   ]
  },
  {
   "cell_type": "code",
   "execution_count": 0,
   "metadata": {
    "colab": {
     "base_uri": "https://localhost:8080/",
     "height": 34
    },
    "colab_type": "code",
    "id": "T2dWNeEmFyxz",
    "outputId": "3c73f82d-fa62-4cad-de14-f2604026d5ff"
   },
   "outputs": [
    {
     "name": "stdout",
     "output_type": "stream",
     "text": [
      "(420285, 1)\n"
     ]
    }
   ],
   "source": [
    "train_nxt_week,test_nxt_week   \\\n",
    "   = do_StandardScaler(train_total_df['nxt_week'],test_total_df['nxt_week'])"
   ]
  },
  {
   "cell_type": "code",
   "execution_count": 0,
   "metadata": {
    "colab": {
     "base_uri": "https://localhost:8080/",
     "height": 34
    },
    "colab_type": "code",
    "id": "LQoWsYg-J0lM",
    "outputId": "3b99edc9-4a0c-4cbf-8cd0-658abfe2d794"
   },
   "outputs": [
    {
     "name": "stdout",
     "output_type": "stream",
     "text": [
      "Shape of matrix after one hot encodig  (420285, 5)\n"
     ]
    }
   ],
   "source": [
    "\n",
    "\n",
    "week_of_the_month_onehotencoder = OneHotEncoder() \n",
    "week_of_the_month_onehotencoder.fit(train_total_df[['week_of_the_month']])\n",
    "\n",
    "train_week_of_the_month_one_hot=week_of_the_month_onehotencoder.transform(train_total_df[['week_of_the_month']])\n",
    "\n",
    "test_week_of_the_month_one_hot=week_of_the_month_onehotencoder.transform(test_total_df[['week_of_the_month']])\n",
    "\n",
    "print(\"Shape of matrix after one hot encodig \",train_week_of_the_month_one_hot.shape)"
   ]
  },
  {
   "cell_type": "code",
   "execution_count": 0,
   "metadata": {
    "colab": {},
    "colab_type": "code",
    "id": "lMr-qWFnFkbV"
   },
   "outputs": [],
   "source": [
    "['Store', 'Dept', 'Date', 'IsHoliday', 'Temperature', 'Fuel_Price',\n",
    "       'MarkDown1', 'MarkDown2', 'MarkDown3', 'MarkDown4', 'MarkDown5', 'CPI',\n",
    "       'Unemployment', 'IsHoliday_y', 'Type', 'Size', 'date', 'Super_Bowl_Day',\n",
    "       'Labor_Day', 'Thanksgiving_Day', 'Christmas_Day',\n",
    "       'Next_Week_Of_Thanksgiving', 'Next_Holiday_Week_Of_Thanksgiving',\n",
    "       'Next_Week_Of_Christmas', 'week_of_year', 'month_of_year',\n",
    "       'before_Christmas_Day', 'low_sales_dep', 'last_year_sales', 'year',\n",
    "       'last_year_week_dept_sales', 'high_week_sales_dept',\n",
    "       'low_week_sales_dept', 'monthly_sales', 'prev_week', 'nxt_week',\n",
    "       'week_of_the_month']"
   ]
  },
  {
   "cell_type": "code",
   "execution_count": 0,
   "metadata": {
    "colab": {
     "base_uri": "https://localhost:8080/",
     "height": 50
    },
    "colab_type": "code",
    "id": "Ya6uUgyQFkbb",
    "outputId": "1c354819-5d32-4f8d-8d11-652fdad5d721"
   },
   "outputs": [
    {
     "name": "stdout",
     "output_type": "stream",
     "text": [
      "Train data:  (420285, 227)\n",
      "Test data:  (115064, 227)\n"
     ]
    }
   ],
   "source": [
    "from scipy.sparse import hstack\n",
    "\n",
    "X_train = hstack((train_store_one_hot,train_dept_one_hot,train_holiday,train_temperature,  \\\n",
    "                 train_fuel_price,train_markdown1,train_markdown2,train_markdown3,train_markdown4,  \\\n",
    "                  train_markdown5,train_cpi,train_unemployment,train_type_one_hot,train_size  ,  \\\n",
    "                  train_total_df[['date']],train_total_df[['Super_Bowl_Day']],  \\\n",
    "                  train_total_df[['Labor_Day']],train_total_df[['Thanksgiving_Day']],  \\\n",
    "                  train_total_df[['Christmas_Day']],train_total_df[['Next_Week_Of_Thanksgiving']],  \\\n",
    "                  train_total_df[['Next_Holiday_Week_Of_Thanksgiving']],train_total_df[['Next_Week_Of_Christmas']],  \\\n",
    "                  train_week_of_year_one_hot,train_month_of_year_one_hot,train_total_df[['before_Christmas_Day']],  \\\n",
    "                  train_total_df[['low_sales_dep']],  \\\n",
    "                  train_total_df[['high_week_sales_dept']],train_total_df[['low_week_sales_dept']],train_monthly_sales , \\\n",
    "                  train_last_year_sales,train_last_year_week_dept_sales,train_nxt_week,train_prev_week ,  \\\n",
    "                  train_week_of_the_month_one_hot\n",
    "                 )).tocsr()\n",
    "\n",
    "\n",
    "print(\"Train data: \",X_train.shape)\n",
    "\n",
    "\n",
    "\n",
    "X_test = hstack((test_store_one_hot,test_dept_one_hot,test_holiday,test_temperature,  \\\n",
    "                 test_fuel_price,test_markdown1,test_markdown2,test_markdown3,test_markdown4,  \\\n",
    "                  test_markdown5,test_cpi,test_unemployment,test_type_one_hot,test_size  ,  \\\n",
    "                  test_total_df[['date']],test_total_df[['Super_Bowl_Day']],  \\\n",
    "                  test_total_df[['Labor_Day']],test_total_df[['Thanksgiving_Day']],  \\\n",
    "                  test_total_df[['Christmas_Day']],test_total_df[['Next_Week_Of_Thanksgiving']],  \\\n",
    "                  test_total_df[['Next_Holiday_Week_Of_Thanksgiving']],test_total_df[['Next_Week_Of_Christmas']],  \\\n",
    "                  test_week_of_year_one_hot,test_month_of_year_one_hot,test_total_df[['before_Christmas_Day']],  \\\n",
    "                  test_total_df[['low_sales_dep']],   \\\n",
    "                  test_total_df[['high_week_sales_dept']],test_total_df[['low_week_sales_dept']],test_monthly_sales,  \\\n",
    "                 test_last_year_sales,test_last_year_week_dept_sales,test_nxt_week,test_prev_week , \\\n",
    "                 test_week_of_the_month_one_hot\n",
    "                 )).tocsr()\n",
    "\n",
    "print(\"Test data: \",X_test.shape)"
   ]
  },
  {
   "cell_type": "code",
   "execution_count": 0,
   "metadata": {
    "colab": {
     "base_uri": "https://localhost:8080/",
     "height": 34
    },
    "colab_type": "code",
    "id": "SiOdUVWMFkbg",
    "outputId": "199456cb-f59e-4e78-8d36-af200049665c"
   },
   "outputs": [
    {
     "name": "stdout",
     "output_type": "stream",
     "text": [
      "train data:  (420285, 1)\n"
     ]
    }
   ],
   "source": [
    "Y_train=train_total_df[['Weekly_Sales']]\n",
    "print(\"train data: \",Y_train.shape)\n"
   ]
  },
  {
   "cell_type": "code",
   "execution_count": 0,
   "metadata": {
    "colab": {},
    "colab_type": "code",
    "id": "63COMEfnBrgP"
   },
   "outputs": [],
   "source": [
    "# Create your dictionary class \n",
    "class my_dictionary(dict): \n",
    "  \n",
    "    # __init__ function \n",
    "    def __init__(self): \n",
    "        self = dict() \n",
    "          \n",
    "    # Function to add key:value \n",
    "    def add(self, key, value): \n",
    "        self[key] = value "
   ]
  },
  {
   "cell_type": "markdown",
   "metadata": {
    "colab_type": "text",
    "id": "xks5V0fpFkb_"
   },
   "source": [
    "## Using XGBoost"
   ]
  },
  {
   "cell_type": "code",
   "execution_count": 0,
   "metadata": {
    "colab": {},
    "colab_type": "code",
    "id": "BHPABV54WxxC"
   },
   "outputs": [],
   "source": [
    "def my_custom_loss_func(act_val,pred_val):\n",
    "    weight=0\n",
    "    temp_val=0\n",
    "    sum_wt=0\n",
    "    holiday_list=train_holiday[87581:311031].values.tolist()\n",
    "    act_val=act_val.values.tolist()\n",
    "\n",
    "    for i in range(len(act_val)):\n",
    "        if holiday_list[i][0] == 0.0:\n",
    "            weight=1\n",
    "        else:\n",
    "            weight=5\n",
    "\n",
    "        sum_wt=sum_wt+weight\n",
    "\n",
    "        temp_val=temp_val + (abs(act_val[i][0]-pred_val[i]) * weight)\n",
    "\n",
    "\n",
    "    return temp_val/sum_wt\n"
   ]
  },
  {
   "cell_type": "code",
   "execution_count": 0,
   "metadata": {
    "colab": {},
    "colab_type": "code",
    "id": "hYNWu58MWmYO"
   },
   "outputs": [],
   "source": [
    "from sklearn.metrics.scorer import make_scorer\n",
    "\n",
    "my_scorer= make_scorer(my_custom_loss_func, greater_is_better=False)"
   ]
  },
  {
   "cell_type": "code",
   "execution_count": 0,
   "metadata": {
    "colab": {},
    "colab_type": "code",
    "id": "2-EzYZriZoBh"
   },
   "outputs": [],
   "source": [
    "def weighted_mean_absolute_error(act_val,pred_val,holiday_list):\n",
    "    weight=0\n",
    "    temp_val=0\n",
    "    sum_wt=0\n",
    "    holiday_list=holiday_list.values.tolist()\n",
    "    act_val=act_val.values.tolist()\n",
    "\n",
    "    for i in range(len(act_val)):\n",
    "        if holiday_list[i][0] == 0.0:\n",
    "              weight=1\n",
    "        else:\n",
    "              weight=5\n",
    "\n",
    "        sum_wt=sum_wt+weight\n",
    "        temp_val=temp_val + (abs(act_val[i][0]-pred_val[i]) * weight)\n",
    "\n",
    "\n",
    "    return temp_val/sum_wt"
   ]
  },
  {
   "cell_type": "code",
   "execution_count": 0,
   "metadata": {
    "colab": {},
    "colab_type": "code",
    "id": "NU_bCTiHMe34"
   },
   "outputs": [],
   "source": [
    "score=weighted_MAE(Y_test.values.tolist(),rndf_test_predictions,test_holiday.values.tolist())"
   ]
  },
  {
   "cell_type": "code",
   "execution_count": 0,
   "metadata": {
    "colab": {},
    "colab_type": "code",
    "id": "8SpV2rwZ8TvH"
   },
   "outputs": [],
   "source": [
    "#import xgboost as xgb\n",
    "x_model = xgb.XGBRegressor(\n",
    " learning_rate =0.05,\n",
    " n_estimators=75,\n",
    " max_depth=12,\n",
    " min_child_weight=3,\n",
    " subsample=0.6,\n",
    " colsample_bytree=0.7, n_jobs=-1)\n",
    "x_model.fit(X_train, Y_train)"
   ]
  },
  {
   "cell_type": "code",
   "execution_count": 0,
   "metadata": {
    "colab": {
     "base_uri": "https://localhost:8080/",
     "height": 470
    },
    "colab_type": "code",
    "id": "oPkr-thlPMzv",
    "outputId": "0b52c23b-9b84-4e00-bece-5939fd342667"
   },
   "outputs": [
    {
     "name": "stdout",
     "output_type": "stream",
     "text": [
      "[12:07:03] WARNING: /workspace/src/objective/regression_obj.cu:152: reg:linear is now deprecated in favor of reg:squarederror.\n"
     ]
    },
    {
     "data": {
      "text/plain": [
       "RandomizedSearchCV(cv=None, error_score=nan,\n",
       "                   estimator=XGBRegressor(base_score=0.5, booster='gbtree',\n",
       "                                          colsample_bylevel=1,\n",
       "                                          colsample_bynode=1,\n",
       "                                          colsample_bytree=1, gamma=0,\n",
       "                                          importance_type='gain',\n",
       "                                          learning_rate=0.1, max_delta_step=0,\n",
       "                                          max_depth=3, min_child_weight=1,\n",
       "                                          missing=None, n_estimators=100,\n",
       "                                          n_jobs=1, nthread=None,\n",
       "                                          objective='reg:linear',\n",
       "                                          random_state=0, reg_alp...\n",
       "                   param_distributions={'colsample_bytree': [0.4, 0.5, 0.7,\n",
       "                                                             0.9],\n",
       "                                        'learning_rate': [0.01, 0.05, 0.1, 0.2,\n",
       "                                                          0.3],\n",
       "                                        'max_depth': [15, 20, 22, 25, 27, 30,\n",
       "                                                      35],\n",
       "                                        'min_child_weight': [1, 2, 3, 4, 5],\n",
       "                                        'n_estimators': [100, 125, 150, 200,\n",
       "                                                         250],\n",
       "                                        'subsample': [0.3, 0.5, 0.7, 0.9]},\n",
       "                   pre_dispatch='2*n_jobs', random_state=None, refit=True,\n",
       "                   return_train_score=False,\n",
       "                   scoring=make_scorer(my_custom_loss_func, greater_is_better=False),\n",
       "                   verbose=0)"
      ]
     },
     "execution_count": 180,
     "metadata": {
      "tags": []
     },
     "output_type": "execute_result"
    }
   ],
   "source": [
    "import xgboost as xgb\n",
    "from sklearn.model_selection import RandomizedSearchCV\n",
    "\n",
    "\n",
    "clf_xgb = xgb.XGBRegressor()\n",
    "param_dist = {'n_estimators': [100,125,150,200,250],\n",
    "              'learning_rate':[0.01,0.05,0.1,0.2,0.3],\n",
    "              'subsample': [0.3,0.5,0.7,0.9],\n",
    "              'max_depth': [15,20,22,25,27,30,35],\n",
    "              'colsample_bytree': [0.4,0.5,0.7,0.9],\n",
    "              'min_child_weight': [1, 2, 3, 4,5]\n",
    "             }\n",
    "\n",
    "model = RandomizedSearchCV(clf_xgb, param_dist,scoring=my_scorer, n_jobs=-1)\n",
    "model.fit(X_train[87581:311031], Y_train[87581:311031])"
   ]
  },
  {
   "cell_type": "code",
   "execution_count": 0,
   "metadata": {
    "colab": {
     "base_uri": "https://localhost:8080/",
     "height": 50
    },
    "colab_type": "code",
    "id": "QVyyjhLdPUfY",
    "outputId": "ecb9df79-ce56-4cc2-e245-39a53954480f"
   },
   "outputs": [
    {
     "name": "stdout",
     "output_type": "stream",
     "text": [
      "Best cross-validation score: -193.44\n",
      "Best parameters:  {'subsample': 0.3, 'n_estimators': 125, 'min_child_weight': 5, 'max_depth': 35, 'learning_rate': 0.1, 'colsample_bytree': 0.9}\n"
     ]
    }
   ],
   "source": [
    "print(\"Best cross-validation score: {:.2f}\".format(model.best_score_))\n",
    "print(\"Best parameters: \", model.best_params_)"
   ]
  },
  {
   "cell_type": "code",
   "execution_count": 0,
   "metadata": {
    "colab": {
     "base_uri": "https://localhost:8080/",
     "height": 151
    },
    "colab_type": "code",
    "id": "LBEvRrXLuKg0",
    "outputId": "69149985-cb68-4b99-e3ac-09779e80ad7e"
   },
   "outputs": [
    {
     "name": "stdout",
     "output_type": "stream",
     "text": [
      "[19:28:05] WARNING: /workspace/src/objective/regression_obj.cu:152: reg:linear is now deprecated in favor of reg:squarederror.\n"
     ]
    },
    {
     "data": {
      "text/plain": [
       "XGBRegressor(base_score=0.5, booster='gbtree', colsample_bylevel=1,\n",
       "             colsample_bynode=1, colsample_bytree=0.7, gamma=0,\n",
       "             importance_type='gain', learning_rate=0.05, max_delta_step=0,\n",
       "             max_depth=14, min_child_weight=3, missing=None, n_estimators=75,\n",
       "             n_jobs=-1, nthread=None, objective='reg:linear', random_state=0,\n",
       "             reg_alpha=0, reg_lambda=1, scale_pos_weight=1, seed=None,\n",
       "             silent=None, subsample=0.6, verbosity=1)"
      ]
     },
     "execution_count": 73,
     "metadata": {
      "tags": []
     },
     "output_type": "execute_result"
    }
   ],
   "source": [
    "import xgboost as xgb\n",
    "x_model = xgb.XGBRegressor(\n",
    " learning_rate =0.05,\n",
    " n_estimators=75,\n",
    " max_depth=12,\n",
    " min_child_weight=3,\n",
    " subsample=0.6,\n",
    " colsample_bytree=0.7, n_jobs=-1)\n",
    "x_model.fit(X_train, Y_train)"
   ]
  },
  {
   "cell_type": "code",
   "execution_count": 0,
   "metadata": {
    "colab": {},
    "colab_type": "code",
    "id": "0Yw-OpLZ2VUl"
   },
   "outputs": [],
   "source": [
    "y_pred = x_model.predict(X_test)\n",
    "test_predictions = [round(value) for value in y_pred]\n",
    "y_pred = x_model.predict(X_train)\n",
    "train_predictions = [round(value) for value in y_pred]"
   ]
  },
  {
   "cell_type": "code",
   "execution_count": 0,
   "metadata": {
    "colab": {
     "base_uri": "https://localhost:8080/",
     "height": 34
    },
    "colab_type": "code",
    "id": "9CABPiccTfrN",
    "outputId": "7f1fbcf4-2021-4cde-a87a-ffd43e924b12"
   },
   "outputs": [
    {
     "data": {
      "text/plain": [
       "1023.7767414123587"
      ]
     },
     "execution_count": 75,
     "metadata": {
      "tags": []
     },
     "output_type": "execute_result"
    }
   ],
   "source": [
    "train_error=weighted_mean_absolute_error(Y_train,train_predictions,train_holiday)\n",
    "train_error"
   ]
  },
  {
   "cell_type": "code",
   "execution_count": 0,
   "metadata": {
    "colab": {
     "base_uri": "https://localhost:8080/",
     "height": 1000
    },
    "colab_type": "code",
    "id": "6s6froWJ21Nz",
    "outputId": "2cc77d55-011b-4d00-c555-f33813bac18c"
   },
   "outputs": [
    {
     "data": {
      "text/plain": [
       "{'f0': 130,\n",
       " 'f1': 118,\n",
       " 'f10': 86,\n",
       " 'f100': 133,\n",
       " 'f101': 36,\n",
       " 'f102': 2,\n",
       " 'f103': 384,\n",
       " 'f104': 137,\n",
       " 'f105': 519,\n",
       " 'f106': 168,\n",
       " 'f107': 47,\n",
       " 'f109': 165,\n",
       " 'f11': 70,\n",
       " 'f110': 34,\n",
       " 'f111': 95,\n",
       " 'f112': 88,\n",
       " 'f113': 119,\n",
       " 'f114': 120,\n",
       " 'f115': 196,\n",
       " 'f116': 114,\n",
       " 'f117': 317,\n",
       " 'f118': 275,\n",
       " 'f119': 253,\n",
       " 'f12': 146,\n",
       " 'f120': 319,\n",
       " 'f121': 159,\n",
       " 'f122': 102,\n",
       " 'f123': 117,\n",
       " 'f124': 74,\n",
       " 'f125': 132,\n",
       " 'f126': 1109,\n",
       " 'f127': 7241,\n",
       " 'f128': 5632,\n",
       " 'f129': 2772,\n",
       " 'f13': 276,\n",
       " 'f130': 2721,\n",
       " 'f131': 3637,\n",
       " 'f132': 1856,\n",
       " 'f133': 1827,\n",
       " 'f134': 5853,\n",
       " 'f135': 6485,\n",
       " 'f136': 639,\n",
       " 'f137': 583,\n",
       " 'f138': 254,\n",
       " 'f139': 5474,\n",
       " 'f14': 103,\n",
       " 'f140': 4219,\n",
       " 'f141': 210,\n",
       " 'f142': 107,\n",
       " 'f143': 1098,\n",
       " 'f144': 347,\n",
       " 'f145': 818,\n",
       " 'f146': 75,\n",
       " 'f147': 317,\n",
       " 'f148': 109,\n",
       " 'f149': 43,\n",
       " 'f15': 95,\n",
       " 'f150': 80,\n",
       " 'f151': 152,\n",
       " 'f152': 57,\n",
       " 'f153': 171,\n",
       " 'f154': 521,\n",
       " 'f155': 153,\n",
       " 'f156': 198,\n",
       " 'f157': 72,\n",
       " 'f158': 60,\n",
       " 'f159': 96,\n",
       " 'f16': 246,\n",
       " 'f160': 365,\n",
       " 'f161': 681,\n",
       " 'f162': 304,\n",
       " 'f163': 359,\n",
       " 'f164': 256,\n",
       " 'f165': 87,\n",
       " 'f166': 232,\n",
       " 'f167': 131,\n",
       " 'f168': 69,\n",
       " 'f169': 214,\n",
       " 'f17': 214,\n",
       " 'f170': 88,\n",
       " 'f171': 26,\n",
       " 'f172': 35,\n",
       " 'f173': 94,\n",
       " 'f174': 186,\n",
       " 'f175': 123,\n",
       " 'f176': 42,\n",
       " 'f177': 123,\n",
       " 'f178': 56,\n",
       " 'f179': 42,\n",
       " 'f18': 136,\n",
       " 'f180': 46,\n",
       " 'f181': 117,\n",
       " 'f182': 351,\n",
       " 'f183': 121,\n",
       " 'f184': 85,\n",
       " 'f185': 61,\n",
       " 'f186': 91,\n",
       " 'f187': 106,\n",
       " 'f188': 49,\n",
       " 'f189': 68,\n",
       " 'f19': 235,\n",
       " 'f190': 104,\n",
       " 'f191': 212,\n",
       " 'f192': 114,\n",
       " 'f193': 139,\n",
       " 'f194': 143,\n",
       " 'f195': 352,\n",
       " 'f196': 241,\n",
       " 'f197': 228,\n",
       " 'f198': 168,\n",
       " 'f199': 319,\n",
       " 'f2': 74,\n",
       " 'f20': 101,\n",
       " 'f200': 144,\n",
       " 'f201': 159,\n",
       " 'f202': 337,\n",
       " 'f203': 160,\n",
       " 'f204': 564,\n",
       " 'f205': 419,\n",
       " 'f206': 192,\n",
       " 'f207': 315,\n",
       " 'f208': 125,\n",
       " 'f209': 189,\n",
       " 'f21': 106,\n",
       " 'f210': 155,\n",
       " 'f211': 413,\n",
       " 'f212': 840,\n",
       " 'f213': 900,\n",
       " 'f214': 199,\n",
       " 'f215': 1739,\n",
       " 'f216': 798,\n",
       " 'f217': 11188,\n",
       " 'f218': 12081,\n",
       " 'f219': 13681,\n",
       " 'f22': 134,\n",
       " 'f220': 13565,\n",
       " 'f221': 14348,\n",
       " 'f222': 1394,\n",
       " 'f223': 687,\n",
       " 'f224': 761,\n",
       " 'f225': 1331,\n",
       " 'f226': 1225,\n",
       " 'f23': 132,\n",
       " 'f24': 95,\n",
       " 'f25': 114,\n",
       " 'f26': 197,\n",
       " 'f27': 265,\n",
       " 'f28': 87,\n",
       " 'f29': 31,\n",
       " 'f3': 122,\n",
       " 'f30': 102,\n",
       " 'f31': 128,\n",
       " 'f32': 68,\n",
       " 'f33': 71,\n",
       " 'f34': 179,\n",
       " 'f35': 94,\n",
       " 'f36': 34,\n",
       " 'f37': 50,\n",
       " 'f38': 94,\n",
       " 'f39': 93,\n",
       " 'f4': 116,\n",
       " 'f40': 74,\n",
       " 'f41': 96,\n",
       " 'f42': 59,\n",
       " 'f43': 12,\n",
       " 'f44': 111,\n",
       " 'f45': 1034,\n",
       " 'f46': 77,\n",
       " 'f47': 367,\n",
       " 'f48': 48,\n",
       " 'f49': 459,\n",
       " 'f5': 73,\n",
       " 'f50': 496,\n",
       " 'f51': 518,\n",
       " 'f52': 82,\n",
       " 'f53': 247,\n",
       " 'f54': 94,\n",
       " 'f55': 436,\n",
       " 'f56': 85,\n",
       " 'f57': 165,\n",
       " 'f58': 209,\n",
       " 'f59': 472,\n",
       " 'f6': 123,\n",
       " 'f60': 43,\n",
       " 'f61': 1548,\n",
       " 'f62': 63,\n",
       " 'f63': 36,\n",
       " 'f64': 34,\n",
       " 'f65': 100,\n",
       " 'f66': 165,\n",
       " 'f67': 167,\n",
       " 'f68': 69,\n",
       " 'f69': 122,\n",
       " 'f7': 75,\n",
       " 'f70': 34,\n",
       " 'f71': 52,\n",
       " 'f72': 24,\n",
       " 'f73': 17,\n",
       " 'f74': 98,\n",
       " 'f75': 276,\n",
       " 'f76': 115,\n",
       " 'f77': 68,\n",
       " 'f78': 43,\n",
       " 'f79': 174,\n",
       " 'f8': 64,\n",
       " 'f80': 30,\n",
       " 'f81': 614,\n",
       " 'f83': 164,\n",
       " 'f84': 137,\n",
       " 'f85': 110,\n",
       " 'f87': 63,\n",
       " 'f88': 2,\n",
       " 'f89': 55,\n",
       " 'f9': 252,\n",
       " 'f90': 37,\n",
       " 'f91': 170,\n",
       " 'f92': 259,\n",
       " 'f93': 34,\n",
       " 'f94': 8,\n",
       " 'f95': 45,\n",
       " 'f96': 35,\n",
       " 'f97': 368,\n",
       " 'f98': 436,\n",
       " 'f99': 744}"
      ]
     },
     "execution_count": 78,
     "metadata": {
      "tags": []
     },
     "output_type": "execute_result"
    }
   ],
   "source": [
    "x_model.get_booster().get_score(importance_type=\"weight\")"
   ]
  },
  {
   "cell_type": "code",
   "execution_count": 0,
   "metadata": {
    "colab": {},
    "colab_type": "code",
    "id": "PEUJLQYo5uMi"
   },
   "outputs": [],
   "source": [
    "df_test_data=pd.DataFrame(test_predictions,columns=['Weekly_Sales'])"
   ]
  },
  {
   "cell_type": "code",
   "execution_count": 0,
   "metadata": {
    "colab": {},
    "colab_type": "code",
    "id": "1Uso-sKv5uRo"
   },
   "outputs": [],
   "source": [
    "result = pd.concat([test_total_df[['Date']],test_total_df[['Store']],test_total_df[['Dept']],df_test_data], axis=1)"
   ]
  },
  {
   "cell_type": "code",
   "execution_count": 0,
   "metadata": {
    "colab": {},
    "colab_type": "code",
    "id": "91CKV7W9_yyS"
   },
   "outputs": [],
   "source": [
    "result.to_csv('pre_xg_out.csv')"
   ]
  },
  {
   "cell_type": "code",
   "execution_count": 0,
   "metadata": {
    "colab": {
     "base_uri": "https://localhost:8080/",
     "height": 195
    },
    "colab_type": "code",
    "id": "5tnxxDiiBI8U",
    "outputId": "3d0eefa2-8b93-4208-b6fa-7dab50d59d43"
   },
   "outputs": [
    {
     "data": {
      "text/html": [
       "<div>\n",
       "<style scoped>\n",
       "    .dataframe tbody tr th:only-of-type {\n",
       "        vertical-align: middle;\n",
       "    }\n",
       "\n",
       "    .dataframe tbody tr th {\n",
       "        vertical-align: top;\n",
       "    }\n",
       "\n",
       "    .dataframe thead th {\n",
       "        text-align: right;\n",
       "    }\n",
       "</style>\n",
       "<table border=\"1\" class=\"dataframe\">\n",
       "  <thead>\n",
       "    <tr style=\"text-align: right;\">\n",
       "      <th></th>\n",
       "      <th>Date</th>\n",
       "      <th>Store</th>\n",
       "      <th>Dept</th>\n",
       "      <th>Weekly_Sales</th>\n",
       "    </tr>\n",
       "  </thead>\n",
       "  <tbody>\n",
       "    <tr>\n",
       "      <th>0</th>\n",
       "      <td>2012-11-02</td>\n",
       "      <td>1</td>\n",
       "      <td>1</td>\n",
       "      <td>31700.0</td>\n",
       "    </tr>\n",
       "    <tr>\n",
       "      <th>1</th>\n",
       "      <td>2012-11-02</td>\n",
       "      <td>1</td>\n",
       "      <td>2</td>\n",
       "      <td>45366.0</td>\n",
       "    </tr>\n",
       "    <tr>\n",
       "      <th>2</th>\n",
       "      <td>2012-11-02</td>\n",
       "      <td>1</td>\n",
       "      <td>3</td>\n",
       "      <td>9730.0</td>\n",
       "    </tr>\n",
       "    <tr>\n",
       "      <th>3</th>\n",
       "      <td>2012-11-02</td>\n",
       "      <td>1</td>\n",
       "      <td>4</td>\n",
       "      <td>38704.0</td>\n",
       "    </tr>\n",
       "    <tr>\n",
       "      <th>4</th>\n",
       "      <td>2012-11-02</td>\n",
       "      <td>1</td>\n",
       "      <td>5</td>\n",
       "      <td>33901.0</td>\n",
       "    </tr>\n",
       "  </tbody>\n",
       "</table>\n",
       "</div>"
      ],
      "text/plain": [
       "         Date  Store  Dept  Weekly_Sales\n",
       "0  2012-11-02      1     1       31700.0\n",
       "1  2012-11-02      1     2       45366.0\n",
       "2  2012-11-02      1     3        9730.0\n",
       "3  2012-11-02      1     4       38704.0\n",
       "4  2012-11-02      1     5       33901.0"
      ]
     },
     "execution_count": 82,
     "metadata": {
      "tags": []
     },
     "output_type": "execute_result"
    }
   ],
   "source": [
    "result.head()"
   ]
  },
  {
   "cell_type": "code",
   "execution_count": 0,
   "metadata": {
    "colab": {},
    "colab_type": "code",
    "id": "pNsLlW87CDcb"
   },
   "outputs": [],
   "source": [
    "dict_obj = my_dictionary() \n",
    "for i,row in result.iterrows():\n",
    "    dict_obj.add(str(str(row['Store'])+'_'+str(row['Dept'])+'_'+str(row['Date'])),row['Weekly_Sales'])\n"
   ]
  },
  {
   "cell_type": "code",
   "execution_count": 0,
   "metadata": {
    "colab": {
     "base_uri": "https://localhost:8080/",
     "height": 34
    },
    "colab_type": "code",
    "id": "dZMinT9sCbr7",
    "outputId": "a2b55e14-8002-4e0b-b62c-2f2b3b632973"
   },
   "outputs": [
    {
     "data": {
      "text/plain": [
       "33805.0"
      ]
     },
     "execution_count": 65,
     "metadata": {
      "tags": []
     },
     "output_type": "execute_result"
    }
   ],
   "source": [
    "dict_obj['1_5_2012-11-02']"
   ]
  },
  {
   "cell_type": "code",
   "execution_count": 0,
   "metadata": {
    "colab": {
     "base_uri": "https://localhost:8080/",
     "height": 34
    },
    "colab_type": "code",
    "id": "fLH35vBYDR-R",
    "outputId": "364d5a9c-f937-4b3b-ba38-728de0daf4a3"
   },
   "outputs": [
    {
     "name": "stdout",
     "output_type": "stream",
     "text": [
      "Number of data points: 115064\n"
     ]
    }
   ],
   "source": [
    "final_Submission = pd.read_csv(\"/content/drive/My Drive/case_study2/sampleSubmission.csv\")\n",
    "\n",
    "print(\"Number of data points:\",final_Submission.shape[0])"
   ]
  },
  {
   "cell_type": "code",
   "execution_count": 0,
   "metadata": {
    "colab": {
     "base_uri": "https://localhost:8080/",
     "height": 195
    },
    "colab_type": "code",
    "id": "fhPCfZzwDZcb",
    "outputId": "0f16752b-c7f6-47e7-97c3-f954ff3a7d44"
   },
   "outputs": [
    {
     "data": {
      "text/html": [
       "<div>\n",
       "<style scoped>\n",
       "    .dataframe tbody tr th:only-of-type {\n",
       "        vertical-align: middle;\n",
       "    }\n",
       "\n",
       "    .dataframe tbody tr th {\n",
       "        vertical-align: top;\n",
       "    }\n",
       "\n",
       "    .dataframe thead th {\n",
       "        text-align: right;\n",
       "    }\n",
       "</style>\n",
       "<table border=\"1\" class=\"dataframe\">\n",
       "  <thead>\n",
       "    <tr style=\"text-align: right;\">\n",
       "      <th></th>\n",
       "      <th>Id</th>\n",
       "      <th>Weekly_Sales</th>\n",
       "    </tr>\n",
       "  </thead>\n",
       "  <tbody>\n",
       "    <tr>\n",
       "      <th>0</th>\n",
       "      <td>1_1_2012-11-02</td>\n",
       "      <td>0</td>\n",
       "    </tr>\n",
       "    <tr>\n",
       "      <th>1</th>\n",
       "      <td>1_1_2012-11-09</td>\n",
       "      <td>0</td>\n",
       "    </tr>\n",
       "    <tr>\n",
       "      <th>2</th>\n",
       "      <td>1_1_2012-11-16</td>\n",
       "      <td>0</td>\n",
       "    </tr>\n",
       "    <tr>\n",
       "      <th>3</th>\n",
       "      <td>1_1_2012-11-23</td>\n",
       "      <td>0</td>\n",
       "    </tr>\n",
       "    <tr>\n",
       "      <th>4</th>\n",
       "      <td>1_1_2012-11-30</td>\n",
       "      <td>0</td>\n",
       "    </tr>\n",
       "  </tbody>\n",
       "</table>\n",
       "</div>"
      ],
      "text/plain": [
       "               Id  Weekly_Sales\n",
       "0  1_1_2012-11-02             0\n",
       "1  1_1_2012-11-09             0\n",
       "2  1_1_2012-11-16             0\n",
       "3  1_1_2012-11-23             0\n",
       "4  1_1_2012-11-30             0"
      ]
     },
     "execution_count": 67,
     "metadata": {
      "tags": []
     },
     "output_type": "execute_result"
    }
   ],
   "source": [
    "final_Submission.head()"
   ]
  },
  {
   "cell_type": "code",
   "execution_count": 0,
   "metadata": {
    "colab": {},
    "colab_type": "code",
    "id": "SvYty7tJDhlQ"
   },
   "outputs": [],
   "source": [
    "result_list=[]\n",
    "for i,row in final_Submission.iterrows():\n",
    "    result_list.append(dict_obj[str(row['Id'])])\n"
   ]
  },
  {
   "cell_type": "code",
   "execution_count": 0,
   "metadata": {
    "colab": {},
    "colab_type": "code",
    "id": "3jBIbtldD8Ny"
   },
   "outputs": [],
   "source": [
    "df_test_result=pd.DataFrame(result_list,columns=['pre_Weekly_Sales'])"
   ]
  },
  {
   "cell_type": "code",
   "execution_count": 0,
   "metadata": {
    "colab": {},
    "colab_type": "code",
    "id": "woWK7XrEELHG"
   },
   "outputs": [],
   "source": [
    "test_result = pd.concat([final_Submission,df_test_result], axis=1)"
   ]
  },
  {
   "cell_type": "code",
   "execution_count": 0,
   "metadata": {
    "colab": {},
    "colab_type": "code",
    "id": "B-JKs8tiEZGk"
   },
   "outputs": [],
   "source": [
    "test_result.to_csv('pre_result_output.csv')"
   ]
  },
  {
   "cell_type": "code",
   "execution_count": 0,
   "metadata": {
    "colab": {
     "base_uri": "https://localhost:8080/",
     "height": 195
    },
    "colab_type": "code",
    "id": "AfcK1QmyEpvH",
    "outputId": "1ba18752-2dae-4bed-fcbb-f73ef9f5dc7a"
   },
   "outputs": [
    {
     "data": {
      "text/html": [
       "<div>\n",
       "<style scoped>\n",
       "    .dataframe tbody tr th:only-of-type {\n",
       "        vertical-align: middle;\n",
       "    }\n",
       "\n",
       "    .dataframe tbody tr th {\n",
       "        vertical-align: top;\n",
       "    }\n",
       "\n",
       "    .dataframe thead th {\n",
       "        text-align: right;\n",
       "    }\n",
       "</style>\n",
       "<table border=\"1\" class=\"dataframe\">\n",
       "  <thead>\n",
       "    <tr style=\"text-align: right;\">\n",
       "      <th></th>\n",
       "      <th>Id</th>\n",
       "      <th>Weekly_Sales</th>\n",
       "      <th>pre_Weekly_Sales</th>\n",
       "    </tr>\n",
       "  </thead>\n",
       "  <tbody>\n",
       "    <tr>\n",
       "      <th>0</th>\n",
       "      <td>1_1_2012-11-02</td>\n",
       "      <td>0</td>\n",
       "      <td>30857.0</td>\n",
       "    </tr>\n",
       "    <tr>\n",
       "      <th>1</th>\n",
       "      <td>1_1_2012-11-09</td>\n",
       "      <td>0</td>\n",
       "      <td>22668.0</td>\n",
       "    </tr>\n",
       "    <tr>\n",
       "      <th>2</th>\n",
       "      <td>1_1_2012-11-16</td>\n",
       "      <td>0</td>\n",
       "      <td>19932.0</td>\n",
       "    </tr>\n",
       "    <tr>\n",
       "      <th>3</th>\n",
       "      <td>1_1_2012-11-23</td>\n",
       "      <td>0</td>\n",
       "      <td>24124.0</td>\n",
       "    </tr>\n",
       "    <tr>\n",
       "      <th>4</th>\n",
       "      <td>1_1_2012-11-30</td>\n",
       "      <td>0</td>\n",
       "      <td>23513.0</td>\n",
       "    </tr>\n",
       "  </tbody>\n",
       "</table>\n",
       "</div>"
      ],
      "text/plain": [
       "               Id  Weekly_Sales  pre_Weekly_Sales\n",
       "0  1_1_2012-11-02             0           30857.0\n",
       "1  1_1_2012-11-09             0           22668.0\n",
       "2  1_1_2012-11-16             0           19932.0\n",
       "3  1_1_2012-11-23             0           24124.0\n",
       "4  1_1_2012-11-30             0           23513.0"
      ]
     },
     "execution_count": 72,
     "metadata": {
      "tags": []
     },
     "output_type": "execute_result"
    }
   ],
   "source": [
    "test_result.head()"
   ]
  },
  {
   "cell_type": "code",
   "execution_count": 0,
   "metadata": {
    "colab": {
     "base_uri": "https://localhost:8080/",
     "height": 67
    },
    "colab_type": "code",
    "id": "9p2v38t5xpXT",
    "outputId": "46918791-d3f8-4042-ebad-c15d43d7b2c7"
   },
   "outputs": [
    {
     "name": "stdout",
     "output_type": "stream",
     "text": [
      "Saved model to: pima.joblib.dat\n",
      "[19:23:23] WARNING: /workspace/src/objective/regression_obj.cu:152: reg:linear is now deprecated in favor of reg:squarederror.\n",
      "Loaded model from: pima.joblib.dat\n"
     ]
    }
   ],
   "source": [
    "from joblib import dump\n",
    "from joblib import load\n",
    "\n",
    "dump(x_model, \"/content/drive/My Drive/case_study2/pima.joblib.dat\")\n",
    "print(\"Saved model to: pima.joblib.dat\")\n",
    " \n",
    "# some time later...\n",
    " \n",
    "# load model from file\n",
    "loaded_model = load(\"/content/drive/My Drive/case_study2/pima.joblib.dat\")\n",
    "print(\"Loaded model from: pima.joblib.dat\")"
   ]
  },
  {
   "cell_type": "code",
   "execution_count": 0,
   "metadata": {
    "colab": {},
    "colab_type": "code",
    "id": "G_x-ftJQxrlG"
   },
   "outputs": [],
   "source": [
    "def final_fun_1(X):\n",
    "\n",
    "    predictions = loaded_model.predict(X)\n",
    "\n",
    "    print(\"The Predicted values for given X are :\")\n",
    "\n",
    "    for i in range(len(predictions)):\n",
    "        print(predictions[i])\n",
    "    return predictions"
   ]
  },
  {
   "cell_type": "code",
   "execution_count": 0,
   "metadata": {
    "colab": {
     "base_uri": "https://localhost:8080/",
     "height": 168
    },
    "colab_type": "code",
    "id": "11vCqYxCyKKY",
    "outputId": "eeb056d5-969e-4ce3-9501-5839bfaeb186"
   },
   "outputs": [
    {
     "name": "stdout",
     "output_type": "stream",
     "text": [
      "The Predicted values for given X are :\n",
      "23222.9\n",
      "49457.754\n",
      "13588.589\n",
      "32005.887\n",
      "28472.969\n",
      "10546.195\n",
      "19448.19\n",
      "37403.875\n"
     ]
    }
   ],
   "source": [
    "predict =final_fun_1(X_train[:8])"
   ]
  },
  {
   "cell_type": "code",
   "execution_count": 0,
   "metadata": {
    "colab": {},
    "colab_type": "code",
    "id": "PLZjWLslycwb"
   },
   "outputs": [],
   "source": [
    "def final_fun_2(X,Y):\n",
    "    predictions = loaded_model.predict(X)\n",
    "\n",
    "    train_predictions = [round(value) for value in predictions]\n",
    "\n",
    "    train_error=weighted_mean_absolute_error(Y,train_predictions,train_holiday)\n",
    "\n",
    "    return train_error"
   ]
  },
  {
   "cell_type": "code",
   "execution_count": 0,
   "metadata": {
    "colab": {
     "base_uri": "https://localhost:8080/",
     "height": 34
    },
    "colab_type": "code",
    "id": "-aPkIa6oz3qn",
    "outputId": "d4f1b915-d08b-4c65-c096-e9ffee6a49a3"
   },
   "outputs": [
    {
     "name": "stdout",
     "output_type": "stream",
     "text": [
      "The WMAE error is :  1275.8002889865834\n"
     ]
    }
   ],
   "source": [
    "Error=final_fun_2(X_train, Y_train)\n",
    "print(\"The WMAE error is : \",Error)"
   ]
  },
  {
   "cell_type": "code",
   "execution_count": 0,
   "metadata": {
    "colab": {},
    "colab_type": "code",
    "id": "kgUuHoGv0xQT"
   },
   "outputs": [],
   "source": []
  }
 ],
 "metadata": {
  "accelerator": "GPU",
  "colab": {
   "collapsed_sections": [],
   "name": "Case_Study2_model_final (1).ipynb",
   "provenance": []
  },
  "kernelspec": {
   "display_name": "Python 3",
   "language": "python",
   "name": "python3"
  },
  "language_info": {
   "codemirror_mode": {
    "name": "ipython",
    "version": 3
   },
   "file_extension": ".py",
   "mimetype": "text/x-python",
   "name": "python",
   "nbconvert_exporter": "python",
   "pygments_lexer": "ipython3",
   "version": "3.6.9"
  }
 },
 "nbformat": 4,
 "nbformat_minor": 1
}
