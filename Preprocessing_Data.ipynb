{
 "cells": [
  {
   "cell_type": "code",
   "execution_count": 1,
   "metadata": {},
   "outputs": [
    {
     "data": {
      "text/html": [
       "        <script type=\"text/javascript\">\n",
       "        window.PlotlyConfig = {MathJaxConfig: 'local'};\n",
       "        if (window.MathJax) {MathJax.Hub.Config({SVG: {font: \"STIX-Web\"}});}\n",
       "        if (typeof require !== 'undefined') {\n",
       "        require.undef(\"plotly\");\n",
       "        requirejs.config({\n",
       "            paths: {\n",
       "                'plotly': ['https://cdn.plot.ly/plotly-latest.min']\n",
       "            }\n",
       "        });\n",
       "        require(['plotly'], function(Plotly) {\n",
       "            window._Plotly = Plotly;\n",
       "        });\n",
       "        }\n",
       "        </script>\n",
       "        "
      ]
     },
     "metadata": {},
     "output_type": "display_data"
    }
   ],
   "source": [
    "import numpy as np\n",
    "import pandas as pd\n",
    "import seaborn as sns\n",
    "import matplotlib.pyplot as plt\n",
    "from subprocess import check_output\n",
    "%matplotlib inline\n",
    "import plotly.offline as py\n",
    "py.init_notebook_mode(connected=True)\n",
    "import plotly.graph_objs as go\n",
    "import plotly.tools as tls\n",
    "import os\n",
    "import gc\n",
    "\n",
    "import re\n",
    "from nltk.corpus import stopwords\n",
    "import distance\n",
    "from nltk.stem import PorterStemmer\n"
   ]
  },
  {
   "cell_type": "code",
   "execution_count": 2,
   "metadata": {},
   "outputs": [
    {
     "name": "stdout",
     "output_type": "stream",
     "text": [
      "Number of data points: 420285\n"
     ]
    }
   ],
   "source": [
    "train_total_df = pd.read_csv(\"final_train_2.csv\")\n",
    "\n",
    "print(\"Number of data points:\",train_total_df.shape[0])"
   ]
  },
  {
   "cell_type": "code",
   "execution_count": 3,
   "metadata": {},
   "outputs": [
    {
     "name": "stdout",
     "output_type": "stream",
     "text": [
      "Number of data points: 115064\n"
     ]
    }
   ],
   "source": [
    "test_total_df = pd.read_csv(\"final_test_2.csv\")\n",
    "\n",
    "print(\"Number of data points:\",test_total_df.shape[0])"
   ]
  },
  {
   "cell_type": "code",
   "execution_count": 4,
   "metadata": {},
   "outputs": [],
   "source": [
    "# Create your dictionary class \n",
    "class my_dictionary(dict): \n",
    "  \n",
    "    # __init__ function \n",
    "    def __init__(self): \n",
    "        self = dict() \n",
    "          \n",
    "    # Function to add key:value \n",
    "    def add(self, key, value): \n",
    "        self[key] = value \n",
    "        "
   ]
  },
  {
   "cell_type": "markdown",
   "metadata": {},
   "source": [
    "# Getting the t-1 and t+1 week sales"
   ]
  },
  {
   "cell_type": "code",
   "execution_count": null,
   "metadata": {},
   "outputs": [],
   "source": [
    "# Create your dictionary class \n",
    "class my_dictionary(dict): \n",
    "  \n",
    "    # __init__ function \n",
    "    def __init__(self): \n",
    "        self = dict() \n",
    "          \n",
    "    # Function to add key:value \n",
    "    def add(self, key, value): \n",
    "        self[key] = value "
   ]
  },
  {
   "cell_type": "code",
   "execution_count": null,
   "metadata": {},
   "outputs": [],
   "source": [
    "# Main Function \n",
    "dict_obj = my_dictionary() \n",
    "for i,row in train_total_df.iterrows():\n",
    "    dict_obj.add(str(str(row['year'])+'_'+str(row['week_of_year'])+'_'+str(row['Store'])+'_'+str(row['Dept'])),row['Weekly_Sales'])\n"
   ]
  },
  {
   "cell_type": "code",
   "execution_count": null,
   "metadata": {},
   "outputs": [],
   "source": [
    "train_prev_week=[]\n",
    "train_nxt_week=[]\n",
    "for i,row in train_total_df.iterrows():\n",
    "    key_t1=str(str(row['year'])+'_'+str(int(row['week_of_year'])-1)+'_'+str(row['Store'])+'_'+str(row['Dept']))\n",
    "    key_t2=str(str(row['year'])+'_'+str(int(row['week_of_year'])+1)+'_'+str(row['Store'])+'_'+str(row['Dept']))\n",
    "\n",
    "    if key_t1 in  dict_obj.keys(): \n",
    "        train_prev_week.append(dict_obj[key_t1])\n",
    "    else:\n",
    "        key_t1=str(str(int(row['year'])-1)+'_'+str(int(row['week_of_year'])-1)+'_'+str(row['Store'])+'_'+str(row['Dept']))\n",
    "        if key_t1 in dict_obj.keys():\n",
    "               train_prev_week.append(dict_obj[key_t1])\n",
    "        else:\n",
    "              train_prev_week.append(0) \n",
    "                   \n",
    "    if key_t2 in dict_obj.keys():\n",
    "               train_nxt_week.append(dict_obj[key_t2])\n",
    "    else:\n",
    "        key_t2=str(str(int(row['year'])+1)+'_'+str(int(row['week_of_year'])+1)+'_'+str(row['Store'])+'_'+str(row['Dept']))\n",
    "        if key_t2 in dict_obj.keys():\n",
    "               train_nxt_week.append(dict_obj[key_t2])\n",
    "        else:\n",
    "              train_nxt_week.append(0) \n",
    "               "
   ]
  },
  {
   "cell_type": "code",
   "execution_count": null,
   "metadata": {},
   "outputs": [],
   "source": [
    "test_prev_week=[]\n",
    "test_nxt_week=[]\n",
    "for i,row in test_total_df.iterrows():\n",
    "    key_t1=str(str(int(row['year'])-1)+'_'+str(int(row['week_of_year'])-1)+'_'+str(row['Store'])+'_'+str(row['Dept']))\n",
    "    key_t2=str(str(int(row['year'])-1)+'_'+str(int(row['week_of_year'])+1)+'_'+str(row['Store'])+'_'+str(row['Dept']))\n",
    "               \n",
    "    if key_t1 in dict_obj.keys():\n",
    "               test_prev_week.append(dict_obj[key_t1])\n",
    "    else:\n",
    "        key_t1=str(str(int(row['year'])-1)+'_'+str(int(row['week_of_year'])-1)+'_'+str(row['Store'])+'_'+str(row['Dept']))\n",
    "        if key_t1 in dict_obj.keys():\n",
    "               test_prev_week.append(dict_obj[key_t1])\n",
    "        else:\n",
    "              test_prev_week.append(0) \n",
    "                   \n",
    "    if key_t2 in dict_obj.keys():\n",
    "               test_nxt_week.append(dict_obj[key_t2])\n",
    "    else:\n",
    "        key_t2=str(str(int(row['year'])-1)+'_'+str(int(row['week_of_year'])+1)+'_'+str(row['Store'])+'_'+str(row['Dept']))\n",
    "        if key_t2 in dict_obj.keys():\n",
    "               test_nxt_week.append(dict_obj[key_t2])\n",
    "        else:\n",
    "              test_nxt_week.append(0) \n",
    "               "
   ]
  },
  {
   "cell_type": "markdown",
   "metadata": {},
   "source": [
    "# Getting Previous year month sales"
   ]
  },
  {
   "cell_type": "code",
   "execution_count": 16,
   "metadata": {},
   "outputs": [],
   "source": [
    "new_2010=train_total_df[train_total_df['year']==2010] \n",
    "\n",
    "new_2011=train_total_df[train_total_df['year']==2011 ]\n",
    "\n",
    "new_2012=train_total_df[train_total_df['year']==2012]\n"
   ]
  },
  {
   "cell_type": "code",
   "execution_count": 28,
   "metadata": {},
   "outputs": [
    {
     "data": {
      "text/html": [
       "<div>\n",
       "<style scoped>\n",
       "    .dataframe tbody tr th:only-of-type {\n",
       "        vertical-align: middle;\n",
       "    }\n",
       "\n",
       "    .dataframe tbody tr th {\n",
       "        vertical-align: top;\n",
       "    }\n",
       "\n",
       "    .dataframe thead th {\n",
       "        text-align: right;\n",
       "    }\n",
       "</style>\n",
       "<table border=\"1\" class=\"dataframe\">\n",
       "  <thead>\n",
       "    <tr style=\"text-align: right;\">\n",
       "      <th></th>\n",
       "      <th>Store</th>\n",
       "      <th>Dept</th>\n",
       "      <th>month_of_year</th>\n",
       "      <th>year</th>\n",
       "      <th>Weekly_Sales</th>\n",
       "    </tr>\n",
       "  </thead>\n",
       "  <tbody>\n",
       "    <tr>\n",
       "      <th>0</th>\n",
       "      <td>1</td>\n",
       "      <td>1</td>\n",
       "      <td>1</td>\n",
       "      <td>2011</td>\n",
       "      <td>69146.59</td>\n",
       "    </tr>\n",
       "    <tr>\n",
       "      <th>1</th>\n",
       "      <td>1</td>\n",
       "      <td>1</td>\n",
       "      <td>1</td>\n",
       "      <td>2012</td>\n",
       "      <td>70205.35</td>\n",
       "    </tr>\n",
       "    <tr>\n",
       "      <th>2</th>\n",
       "      <td>1</td>\n",
       "      <td>1</td>\n",
       "      <td>2</td>\n",
       "      <td>2010</td>\n",
       "      <td>131963.08</td>\n",
       "    </tr>\n",
       "    <tr>\n",
       "      <th>3</th>\n",
       "      <td>1</td>\n",
       "      <td>1</td>\n",
       "      <td>2</td>\n",
       "      <td>2011</td>\n",
       "      <td>125762.63</td>\n",
       "    </tr>\n",
       "    <tr>\n",
       "      <th>4</th>\n",
       "      <td>1</td>\n",
       "      <td>1</td>\n",
       "      <td>2</td>\n",
       "      <td>2012</td>\n",
       "      <td>134683.30</td>\n",
       "    </tr>\n",
       "    <tr>\n",
       "      <th>5</th>\n",
       "      <td>1</td>\n",
       "      <td>1</td>\n",
       "      <td>3</td>\n",
       "      <td>2010</td>\n",
       "      <td>91237.14</td>\n",
       "    </tr>\n",
       "    <tr>\n",
       "      <th>6</th>\n",
       "      <td>1</td>\n",
       "      <td>1</td>\n",
       "      <td>3</td>\n",
       "      <td>2011</td>\n",
       "      <td>82823.34</td>\n",
       "    </tr>\n",
       "    <tr>\n",
       "      <th>7</th>\n",
       "      <td>1</td>\n",
       "      <td>1</td>\n",
       "      <td>3</td>\n",
       "      <td>2012</td>\n",
       "      <td>114680.54</td>\n",
       "    </tr>\n",
       "    <tr>\n",
       "      <th>8</th>\n",
       "      <td>1</td>\n",
       "      <td>1</td>\n",
       "      <td>4</td>\n",
       "      <td>2010</td>\n",
       "      <td>150516.76</td>\n",
       "    </tr>\n",
       "    <tr>\n",
       "      <th>9</th>\n",
       "      <td>1</td>\n",
       "      <td>1</td>\n",
       "      <td>4</td>\n",
       "      <td>2011</td>\n",
       "      <td>165056.95</td>\n",
       "    </tr>\n",
       "    <tr>\n",
       "      <th>10</th>\n",
       "      <td>1</td>\n",
       "      <td>1</td>\n",
       "      <td>4</td>\n",
       "      <td>2012</td>\n",
       "      <td>125600.12</td>\n",
       "    </tr>\n",
       "    <tr>\n",
       "      <th>11</th>\n",
       "      <td>1</td>\n",
       "      <td>1</td>\n",
       "      <td>5</td>\n",
       "      <td>2010</td>\n",
       "      <td>66694.15</td>\n",
       "    </tr>\n",
       "  </tbody>\n",
       "</table>\n",
       "</div>"
      ],
      "text/plain": [
       "    Store  Dept  month_of_year  year  Weekly_Sales\n",
       "0       1     1              1  2011      69146.59\n",
       "1       1     1              1  2012      70205.35\n",
       "2       1     1              2  2010     131963.08\n",
       "3       1     1              2  2011     125762.63\n",
       "4       1     1              2  2012     134683.30\n",
       "5       1     1              3  2010      91237.14\n",
       "6       1     1              3  2011      82823.34\n",
       "7       1     1              3  2012     114680.54\n",
       "8       1     1              4  2010     150516.76\n",
       "9       1     1              4  2011     165056.95\n",
       "10      1     1              4  2012     125600.12\n",
       "11      1     1              5  2010      66694.15"
      ]
     },
     "execution_count": 28,
     "metadata": {},
     "output_type": "execute_result"
    }
   ],
   "source": [
    "new_2010_df=train_total_df.groupby(['Store','Dept','month_of_year','year'])['Weekly_Sales'].sum().reset_index()\n",
    "new_2010_df.head(12)"
   ]
  },
  {
   "cell_type": "code",
   "execution_count": 29,
   "metadata": {},
   "outputs": [],
   "source": [
    "dict_obj = my_dictionary()\n",
    "for i,row in new_2010_df.iterrows():\n",
    "    key=str(str(int(row['Store']))+'_'+str(int(row['Dept']))+'_'+str(int(row['month_of_year']))+'_'+str(int(row['year'])))\n",
    "    dict_obj.add(key,row['Weekly_Sales'])\n",
    "    "
   ]
  },
  {
   "cell_type": "code",
   "execution_count": 30,
   "metadata": {},
   "outputs": [],
   "source": [
    "train_list=[]\n",
    "for i,row in train_total_df.iterrows():\n",
    "    key=str(str(int(row['Store']))+'_'+str(int(row['Dept']))+'_'+str(int(row['month_of_year']))+'_'+str(int(row['year'])))\n",
    "    train_list.append(dict_obj[key])\n",
    "    "
   ]
  },
  {
   "cell_type": "code",
   "execution_count": 31,
   "metadata": {},
   "outputs": [],
   "source": [
    "result=pd.DataFrame(train_list,columns=['Weekly_Sales'])\n",
    "result.to_csv('month.csv')"
   ]
  },
  {
   "cell_type": "code",
   "execution_count": 33,
   "metadata": {},
   "outputs": [],
   "source": [
    "test_list=[]\n",
    "for i,row in test_total_df.iterrows():\n",
    "    key=str(str(int(row['Store']))+'_'+str(int(row['Dept']))+'_'+str(int(row['month_of_year']))+'_'+str(int(row['year'])-1))\n",
    "    \n",
    "    if key in dict_obj.keys() :\n",
    "        test_list.append(dict_obj[key])\n",
    "    else:\n",
    "        key=str(str(int(row['Store']))+'_'+str(int(row['Dept']))+'_'+str(int(row['month_of_year']))+'_'+str(int(row['year'])-2))\n",
    "        \n",
    "        if key in dict_obj.keys() :\n",
    "            test_list.append(dict_obj[key])\n",
    "        else:\n",
    "            test_list.append(5)"
   ]
  },
  {
   "cell_type": "code",
   "execution_count": 34,
   "metadata": {},
   "outputs": [],
   "source": [
    "result=pd.DataFrame(test_list,columns=['Weekly_Sales'])\n",
    "result.to_csv('month_test.csv')"
   ]
  },
  {
   "cell_type": "markdown",
   "metadata": {},
   "source": [
    "# Getting the current month week"
   ]
  },
  {
   "cell_type": "code",
   "execution_count": null,
   "metadata": {},
   "outputs": [],
   "source": [
    "week_of_the_month=[]\n",
    "current_week=1\n",
    "current_month=2\n",
    "current_year_week=6\n",
    "for i,row in train_total_df.iterrows():\n",
    "    if current_month == row['month_of_year'] and current_year_week != row['week_of_year']:\n",
    "        current_week=current_week+1\n",
    "        week_of_the_month.append(current_week)\n",
    "        \n",
    "    else:\n",
    "        if current_month == row['month_of_year']:\n",
    "            week_of_the_month.append(current_week)\n",
    "        else:\n",
    "            week_of_the_month.append(1)\n",
    "            current_week=1\n",
    "            current_month=row['month_of_year']\n",
    "            \n",
    "            \n",
    "    current_year_week=row['week_of_year']\n",
    "        "
   ]
  },
  {
   "cell_type": "code",
   "execution_count": null,
   "metadata": {},
   "outputs": [],
   "source": [
    "week_of_the_month=[]\n",
    "current_week=1\n",
    "current_month=11\n",
    "current_year_week=44\n",
    "for i,row in test_total_df.iterrows():\n",
    "    if current_month == row['month_of_year'] and current_year_week != row['week_of_year']:\n",
    "        current_week=current_week+1\n",
    "        week_of_the_month.append(current_week)\n",
    "        \n",
    "    else:\n",
    "        if current_month == row['month_of_year']:\n",
    "            week_of_the_month.append(current_week)\n",
    "        else:\n",
    "            week_of_the_month.append(1)\n",
    "            current_week=1\n",
    "            current_month=row['month_of_year']\n",
    "            \n",
    "            \n",
    "    current_year_week=row['week_of_year']\n",
    "        "
   ]
  },
  {
   "cell_type": "code",
   "execution_count": null,
   "metadata": {},
   "outputs": [],
   "source": [
    "df = pd.DataFrame(week_of_the_month, \n",
    "               columns =['week_of_the_month']) \n",
    "df.to_csv('test_week_of_the_month.csv') "
   ]
  }
 ],
 "metadata": {
  "kernelspec": {
   "display_name": "Python 3",
   "language": "python",
   "name": "python3"
  },
  "language_info": {
   "codemirror_mode": {
    "name": "ipython",
    "version": 3
   },
   "file_extension": ".py",
   "mimetype": "text/x-python",
   "name": "python",
   "nbconvert_exporter": "python",
   "pygments_lexer": "ipython3",
   "version": "3.6.9"
  }
 },
 "nbformat": 4,
 "nbformat_minor": 2
}
