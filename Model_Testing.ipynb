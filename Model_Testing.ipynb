{
 "cells": [
  {
   "cell_type": "code",
   "execution_count": 1,
   "metadata": {
    "colab": {
     "base_uri": "https://localhost:8080/",
     "height": 17
    },
    "colab_type": "code",
    "id": "MuTeUO51FkX7",
    "outputId": "0552fecb-b568-4f4d-94af-bb1b1e3b9229"
   },
   "outputs": [
    {
     "data": {
      "text/html": [
       "        <script type=\"text/javascript\">\n",
       "        window.PlotlyConfig = {MathJaxConfig: 'local'};\n",
       "        if (window.MathJax) {MathJax.Hub.Config({SVG: {font: \"STIX-Web\"}});}\n",
       "        if (typeof require !== 'undefined') {\n",
       "        require.undef(\"plotly\");\n",
       "        requirejs.config({\n",
       "            paths: {\n",
       "                'plotly': ['https://cdn.plot.ly/plotly-latest.min']\n",
       "            }\n",
       "        });\n",
       "        require(['plotly'], function(Plotly) {\n",
       "            window._Plotly = Plotly;\n",
       "        });\n",
       "        }\n",
       "        </script>\n",
       "        "
      ]
     },
     "metadata": {
      "tags": []
     },
     "output_type": "display_data"
    }
   ],
   "source": [
    "import numpy as np\n",
    "import pandas as pd\n",
    "import seaborn as sns\n",
    "import matplotlib.pyplot as plt\n",
    "from subprocess import check_output\n",
    "%matplotlib inline\n",
    "import plotly.offline as py\n",
    "py.init_notebook_mode(connected=True)\n",
    "import plotly.graph_objs as go\n",
    "import plotly.tools as tls\n",
    "import os\n",
    "import gc\n",
    "import warnings\n",
    "import re\n",
    "from nltk.corpus import stopwords\n",
    "#import distance\n",
    "from nltk.stem import PorterStemmer\n",
    "warnings.filterwarnings(\"ignore\")\n"
   ]
  },
  {
   "cell_type": "code",
   "execution_count": 3,
   "metadata": {
    "colab": {
     "base_uri": "https://localhost:8080/",
     "height": 34
    },
    "colab_type": "code",
    "id": "a1NX4vg6FkYh",
    "outputId": "5b32f32d-34a5-4a98-b4f8-20740ddb52c1"
   },
   "outputs": [
    {
     "name": "stdout",
     "output_type": "stream",
     "text": [
      "Number of data points: 297105\n"
     ]
    }
   ],
   "source": [
    "train_total_df = pd.read_csv(\"/content/drive/My Drive/case_study2/new_train_total.csv\")\n",
    "\n",
    "print(\"Number of data points:\",train_total_df.shape[0])"
   ]
  },
  {
   "cell_type": "code",
   "execution_count": 4,
   "metadata": {
    "colab": {
     "base_uri": "https://localhost:8080/",
     "height": 34
    },
    "colab_type": "code",
    "id": "zO8iME6lFkYp",
    "outputId": "527da165-34ed-40c7-ee1a-c55e8e6da381"
   },
   "outputs": [
    {
     "name": "stdout",
     "output_type": "stream",
     "text": [
      "Number of data points: 44608\n"
     ]
    }
   ],
   "source": [
    "dev_total_df = pd.read_csv(\"/content/drive/My Drive/case_study2/new_dev_total.csv\")\n",
    "\n",
    "print(\"Number of data points:\",dev_total_df.shape[0])"
   ]
  },
  {
   "cell_type": "code",
   "execution_count": 5,
   "metadata": {
    "colab": {
     "base_uri": "https://localhost:8080/",
     "height": 34
    },
    "colab_type": "code",
    "id": "_0jkrIwdFkYx",
    "outputId": "25865753-e603-4200-cb0e-fd14cf4e19f8"
   },
   "outputs": [
    {
     "name": "stdout",
     "output_type": "stream",
     "text": [
      "Number of data points: 79857\n"
     ]
    }
   ],
   "source": [
    "test_total_df = pd.read_csv(\"/content/drive/My Drive/case_study2/new_test_total.csv\")\n",
    "\n",
    "print(\"Number of data points:\",test_total_df.shape[0])"
   ]
  },
  {
   "cell_type": "code",
   "execution_count": 6,
   "metadata": {
    "colab": {
     "base_uri": "https://localhost:8080/",
     "height": 316
    },
    "colab_type": "code",
    "id": "XIHrmUovFkY4",
    "outputId": "2cd80f60-b1b6-40ed-e2e1-42c218dc51d3"
   },
   "outputs": [
    {
     "data": {
      "text/html": [
       "<div>\n",
       "<style scoped>\n",
       "    .dataframe tbody tr th:only-of-type {\n",
       "        vertical-align: middle;\n",
       "    }\n",
       "\n",
       "    .dataframe tbody tr th {\n",
       "        vertical-align: top;\n",
       "    }\n",
       "\n",
       "    .dataframe thead th {\n",
       "        text-align: right;\n",
       "    }\n",
       "</style>\n",
       "<table border=\"1\" class=\"dataframe\">\n",
       "  <thead>\n",
       "    <tr style=\"text-align: right;\">\n",
       "      <th></th>\n",
       "      <th>Unnamed: 0</th>\n",
       "      <th>Unnamed: 0.1</th>\n",
       "      <th>Store</th>\n",
       "      <th>Dept</th>\n",
       "      <th>Date</th>\n",
       "      <th>Weekly_Sales</th>\n",
       "      <th>IsHoliday</th>\n",
       "      <th>Temperature</th>\n",
       "      <th>Fuel_Price</th>\n",
       "      <th>MarkDown1</th>\n",
       "      <th>MarkDown2</th>\n",
       "      <th>MarkDown3</th>\n",
       "      <th>MarkDown4</th>\n",
       "      <th>MarkDown5</th>\n",
       "      <th>CPI</th>\n",
       "      <th>Unemployment</th>\n",
       "      <th>IsHoliday_y</th>\n",
       "      <th>Type</th>\n",
       "      <th>Size</th>\n",
       "      <th>date</th>\n",
       "      <th>Super_Bowl_Day</th>\n",
       "      <th>Labor_Day</th>\n",
       "      <th>Thanksgiving_Day</th>\n",
       "      <th>Christmas_Day</th>\n",
       "      <th>Next_Week_Of_Thanksgiving</th>\n",
       "      <th>Next_Holiday_Week_Of_Thanksgiving</th>\n",
       "      <th>Next_Week_Of_Christmas</th>\n",
       "      <th>week_of_year</th>\n",
       "      <th>month_of_year</th>\n",
       "      <th>before_Christmas_Day</th>\n",
       "      <th>low_sales_dep</th>\n",
       "    </tr>\n",
       "  </thead>\n",
       "  <tbody>\n",
       "    <tr>\n",
       "      <th>0</th>\n",
       "      <td>0</td>\n",
       "      <td>116</td>\n",
       "      <td>1</td>\n",
       "      <td>1</td>\n",
       "      <td>2012-04-27</td>\n",
       "      <td>16347.60</td>\n",
       "      <td>False</td>\n",
       "      <td>67.23</td>\n",
       "      <td>3.814</td>\n",
       "      <td>3221.25</td>\n",
       "      <td>0.0</td>\n",
       "      <td>35.49</td>\n",
       "      <td>577.14</td>\n",
       "      <td>6222.25</td>\n",
       "      <td>221.617937</td>\n",
       "      <td>7.143</td>\n",
       "      <td>False</td>\n",
       "      <td>A</td>\n",
       "      <td>151315</td>\n",
       "      <td>1335484800</td>\n",
       "      <td>0</td>\n",
       "      <td>0</td>\n",
       "      <td>0</td>\n",
       "      <td>0</td>\n",
       "      <td>0</td>\n",
       "      <td>0</td>\n",
       "      <td>0</td>\n",
       "      <td>17</td>\n",
       "      <td>4</td>\n",
       "      <td>0</td>\n",
       "      <td>0</td>\n",
       "    </tr>\n",
       "    <tr>\n",
       "      <th>1</th>\n",
       "      <td>1</td>\n",
       "      <td>259</td>\n",
       "      <td>1</td>\n",
       "      <td>2</td>\n",
       "      <td>2012-04-27</td>\n",
       "      <td>45456.23</td>\n",
       "      <td>False</td>\n",
       "      <td>67.23</td>\n",
       "      <td>3.814</td>\n",
       "      <td>3221.25</td>\n",
       "      <td>0.0</td>\n",
       "      <td>35.49</td>\n",
       "      <td>577.14</td>\n",
       "      <td>6222.25</td>\n",
       "      <td>221.617937</td>\n",
       "      <td>7.143</td>\n",
       "      <td>False</td>\n",
       "      <td>A</td>\n",
       "      <td>151315</td>\n",
       "      <td>1335484800</td>\n",
       "      <td>0</td>\n",
       "      <td>0</td>\n",
       "      <td>0</td>\n",
       "      <td>0</td>\n",
       "      <td>0</td>\n",
       "      <td>0</td>\n",
       "      <td>0</td>\n",
       "      <td>17</td>\n",
       "      <td>4</td>\n",
       "      <td>0</td>\n",
       "      <td>0</td>\n",
       "    </tr>\n",
       "    <tr>\n",
       "      <th>2</th>\n",
       "      <td>2</td>\n",
       "      <td>402</td>\n",
       "      <td>1</td>\n",
       "      <td>3</td>\n",
       "      <td>2012-04-27</td>\n",
       "      <td>8635.62</td>\n",
       "      <td>False</td>\n",
       "      <td>67.23</td>\n",
       "      <td>3.814</td>\n",
       "      <td>3221.25</td>\n",
       "      <td>0.0</td>\n",
       "      <td>35.49</td>\n",
       "      <td>577.14</td>\n",
       "      <td>6222.25</td>\n",
       "      <td>221.617937</td>\n",
       "      <td>7.143</td>\n",
       "      <td>False</td>\n",
       "      <td>A</td>\n",
       "      <td>151315</td>\n",
       "      <td>1335484800</td>\n",
       "      <td>0</td>\n",
       "      <td>0</td>\n",
       "      <td>0</td>\n",
       "      <td>0</td>\n",
       "      <td>0</td>\n",
       "      <td>0</td>\n",
       "      <td>0</td>\n",
       "      <td>17</td>\n",
       "      <td>4</td>\n",
       "      <td>0</td>\n",
       "      <td>0</td>\n",
       "    </tr>\n",
       "    <tr>\n",
       "      <th>3</th>\n",
       "      <td>3</td>\n",
       "      <td>545</td>\n",
       "      <td>1</td>\n",
       "      <td>4</td>\n",
       "      <td>2012-04-27</td>\n",
       "      <td>36894.54</td>\n",
       "      <td>False</td>\n",
       "      <td>67.23</td>\n",
       "      <td>3.814</td>\n",
       "      <td>3221.25</td>\n",
       "      <td>0.0</td>\n",
       "      <td>35.49</td>\n",
       "      <td>577.14</td>\n",
       "      <td>6222.25</td>\n",
       "      <td>221.617937</td>\n",
       "      <td>7.143</td>\n",
       "      <td>False</td>\n",
       "      <td>A</td>\n",
       "      <td>151315</td>\n",
       "      <td>1335484800</td>\n",
       "      <td>0</td>\n",
       "      <td>0</td>\n",
       "      <td>0</td>\n",
       "      <td>0</td>\n",
       "      <td>0</td>\n",
       "      <td>0</td>\n",
       "      <td>0</td>\n",
       "      <td>17</td>\n",
       "      <td>4</td>\n",
       "      <td>0</td>\n",
       "      <td>0</td>\n",
       "    </tr>\n",
       "    <tr>\n",
       "      <th>4</th>\n",
       "      <td>4</td>\n",
       "      <td>688</td>\n",
       "      <td>1</td>\n",
       "      <td>5</td>\n",
       "      <td>2012-04-27</td>\n",
       "      <td>17170.39</td>\n",
       "      <td>False</td>\n",
       "      <td>67.23</td>\n",
       "      <td>3.814</td>\n",
       "      <td>3221.25</td>\n",
       "      <td>0.0</td>\n",
       "      <td>35.49</td>\n",
       "      <td>577.14</td>\n",
       "      <td>6222.25</td>\n",
       "      <td>221.617937</td>\n",
       "      <td>7.143</td>\n",
       "      <td>False</td>\n",
       "      <td>A</td>\n",
       "      <td>151315</td>\n",
       "      <td>1335484800</td>\n",
       "      <td>0</td>\n",
       "      <td>0</td>\n",
       "      <td>0</td>\n",
       "      <td>0</td>\n",
       "      <td>0</td>\n",
       "      <td>0</td>\n",
       "      <td>0</td>\n",
       "      <td>17</td>\n",
       "      <td>4</td>\n",
       "      <td>0</td>\n",
       "      <td>0</td>\n",
       "    </tr>\n",
       "  </tbody>\n",
       "</table>\n",
       "</div>"
      ],
      "text/plain": [
       "   Unnamed: 0  Unnamed: 0.1  ...  before_Christmas_Day  low_sales_dep\n",
       "0           0           116  ...                     0              0\n",
       "1           1           259  ...                     0              0\n",
       "2           2           402  ...                     0              0\n",
       "3           3           545  ...                     0              0\n",
       "4           4           688  ...                     0              0\n",
       "\n",
       "[5 rows x 31 columns]"
      ]
     },
     "execution_count": 6,
     "metadata": {
      "tags": []
     },
     "output_type": "execute_result"
    }
   ],
   "source": [
    "test_total_df.head()"
   ]
  },
  {
   "cell_type": "code",
   "execution_count": 0,
   "metadata": {
    "colab": {
     "base_uri": "https://localhost:8080/",
     "height": 168
    },
    "colab_type": "code",
    "id": "fvuhXLVBFkZD",
    "outputId": "738ea33f-f516-4fee-9f76-291133a31d41"
   },
   "outputs": [
    {
     "data": {
      "text/plain": [
       "Index(['Unnamed: 0', 'Unnamed: 0.1', 'Store', 'Dept', 'Date', 'Weekly_Sales',\n",
       "       'IsHoliday', 'Temperature', 'Fuel_Price', 'MarkDown1', 'MarkDown2',\n",
       "       'MarkDown3', 'MarkDown4', 'MarkDown5', 'CPI', 'Unemployment',\n",
       "       'IsHoliday_y', 'Type', 'Size', 'date', 'Super_Bowl_Day', 'Labor_Day',\n",
       "       'Thanksgiving_Day', 'Christmas_Day', 'Next_Week_Of_Thanksgiving',\n",
       "       'Next_Holiday_Week_Of_Thanksgiving', 'Next_Week_Of_Christmas',\n",
       "       'week_of_year', 'month_of_year', 'before_Christmas_Day',\n",
       "       'low_sales_dep'],\n",
       "      dtype='object')"
      ]
     },
     "execution_count": 7,
     "metadata": {
      "tags": []
     },
     "output_type": "execute_result"
    }
   ],
   "source": [
    "test_total_df.columns"
   ]
  },
  {
   "cell_type": "code",
   "execution_count": 7,
   "metadata": {
    "colab": {
     "base_uri": "https://localhost:8080/",
     "height": 34
    },
    "colab_type": "code",
    "id": "n_yhUUZSFkZM",
    "outputId": "085ee496-34db-49d3-e982-ede1ca723be7"
   },
   "outputs": [
    {
     "name": "stdout",
     "output_type": "stream",
     "text": [
      "Shape of matrix after one hot encodig  (297105, 45)\n"
     ]
    }
   ],
   "source": [
    "#we need to do one hot \n",
    "\n",
    "from sklearn.preprocessing import OneHotEncoder \n",
    "\n",
    "onehotencoder = OneHotEncoder() \n",
    "onehotencoder.fit(train_total_df[['Store']])\n",
    "\n",
    "train_store_one_hot=onehotencoder.transform(train_total_df[['Store']])\n",
    "dev_store_one_hot=onehotencoder.transform(dev_total_df[['Store']])\n",
    "test_store_one_hot=onehotencoder.transform(test_total_df[['Store']])\n",
    "\n",
    "print(\"Shape of matrix after one hot encodig \",train_store_one_hot.shape)"
   ]
  },
  {
   "cell_type": "code",
   "execution_count": 8,
   "metadata": {
    "colab": {
     "base_uri": "https://localhost:8080/",
     "height": 34
    },
    "colab_type": "code",
    "id": "ncUcixqIFkZU",
    "outputId": "d302462b-a378-47ea-8caf-08d3e85b37cc"
   },
   "outputs": [
    {
     "name": "stdout",
     "output_type": "stream",
     "text": [
      "Shape of matrix after one hot encodig  (297105, 81)\n"
     ]
    }
   ],
   "source": [
    "dept_onehotencoder = OneHotEncoder() \n",
    "dept_onehotencoder.fit(train_total_df[['Dept']])\n",
    "\n",
    "train_dept_one_hot=dept_onehotencoder.transform(train_total_df[['Dept']])\n",
    "dev_dept_one_hot=dept_onehotencoder.transform(dev_total_df[['Dept']])\n",
    "test_dept_one_hot=dept_onehotencoder.transform(test_total_df[['Dept']])\n",
    "\n",
    "print(\"Shape of matrix after one hot encodig \",train_dept_one_hot.shape)"
   ]
  },
  {
   "cell_type": "code",
   "execution_count": 0,
   "metadata": {
    "colab": {},
    "colab_type": "code",
    "id": "8IajxkJWFkZc"
   },
   "outputs": [],
   "source": [
    "def replace_holiday(data):\n",
    "    holiday=data.replace(to_replace=[False],value=0)\n",
    "    holiday=holiday.replace(to_replace=[True],value=1)\n",
    "    return holiday"
   ]
  },
  {
   "cell_type": "code",
   "execution_count": 0,
   "metadata": {
    "colab": {},
    "colab_type": "code",
    "id": "OHickXEwFkZi"
   },
   "outputs": [],
   "source": [
    "train_holiday=replace_holiday(train_total_df[['IsHoliday']])\n",
    "dev_holiday=replace_holiday(dev_total_df[['IsHoliday']])\n",
    "test_holiday=replace_holiday(test_total_df[['IsHoliday']])"
   ]
  },
  {
   "cell_type": "code",
   "execution_count": 0,
   "metadata": {
    "colab": {
     "base_uri": "https://localhost:8080/",
     "height": 402
    },
    "colab_type": "code",
    "id": "8pnu324tFkZt",
    "outputId": "f8e36b16-8487-41f6-bb09-1ac34f49b377"
   },
   "outputs": [
    {
     "data": {
      "text/html": [
       "<div>\n",
       "<style scoped>\n",
       "    .dataframe tbody tr th:only-of-type {\n",
       "        vertical-align: middle;\n",
       "    }\n",
       "\n",
       "    .dataframe tbody tr th {\n",
       "        vertical-align: top;\n",
       "    }\n",
       "\n",
       "    .dataframe thead th {\n",
       "        text-align: right;\n",
       "    }\n",
       "</style>\n",
       "<table border=\"1\" class=\"dataframe\">\n",
       "  <thead>\n",
       "    <tr style=\"text-align: right;\">\n",
       "      <th></th>\n",
       "      <th>IsHoliday</th>\n",
       "    </tr>\n",
       "  </thead>\n",
       "  <tbody>\n",
       "    <tr>\n",
       "      <th>0</th>\n",
       "      <td>0.0</td>\n",
       "    </tr>\n",
       "    <tr>\n",
       "      <th>1</th>\n",
       "      <td>0.0</td>\n",
       "    </tr>\n",
       "    <tr>\n",
       "      <th>2</th>\n",
       "      <td>0.0</td>\n",
       "    </tr>\n",
       "    <tr>\n",
       "      <th>3</th>\n",
       "      <td>0.0</td>\n",
       "    </tr>\n",
       "    <tr>\n",
       "      <th>4</th>\n",
       "      <td>0.0</td>\n",
       "    </tr>\n",
       "    <tr>\n",
       "      <th>...</th>\n",
       "      <td>...</td>\n",
       "    </tr>\n",
       "    <tr>\n",
       "      <th>297100</th>\n",
       "      <td>0.0</td>\n",
       "    </tr>\n",
       "    <tr>\n",
       "      <th>297101</th>\n",
       "      <td>0.0</td>\n",
       "    </tr>\n",
       "    <tr>\n",
       "      <th>297102</th>\n",
       "      <td>0.0</td>\n",
       "    </tr>\n",
       "    <tr>\n",
       "      <th>297103</th>\n",
       "      <td>0.0</td>\n",
       "    </tr>\n",
       "    <tr>\n",
       "      <th>297104</th>\n",
       "      <td>0.0</td>\n",
       "    </tr>\n",
       "  </tbody>\n",
       "</table>\n",
       "<p>297105 rows × 1 columns</p>\n",
       "</div>"
      ],
      "text/plain": [
       "        IsHoliday\n",
       "0             0.0\n",
       "1             0.0\n",
       "2             0.0\n",
       "3             0.0\n",
       "4             0.0\n",
       "...           ...\n",
       "297100        0.0\n",
       "297101        0.0\n",
       "297102        0.0\n",
       "297103        0.0\n",
       "297104        0.0\n",
       "\n",
       "[297105 rows x 1 columns]"
      ]
     },
     "execution_count": 12,
     "metadata": {
      "tags": []
     },
     "output_type": "execute_result"
    }
   ],
   "source": [
    "train_holiday"
   ]
  },
  {
   "cell_type": "code",
   "execution_count": 0,
   "metadata": {
    "colab": {},
    "colab_type": "code",
    "id": "1t7qy-55FkZ1"
   },
   "outputs": [],
   "source": [
    "from sklearn.preprocessing import StandardScaler\n",
    "\n",
    "\n",
    "def do_StandardScaler(train,dev,test):\n",
    "    Standardscaler = StandardScaler()\n",
    "\n",
    "    Standardscaler.fit(train.values.reshape(-1,1))\n",
    "\n",
    "    train_number = Standardscaler.transform(train.values.reshape(-1,1))\n",
    "    dev_number   = Standardscaler.transform(dev.values.reshape(-1,1))\n",
    "    test_number  = Standardscaler.transform(test.values.reshape(-1,1))\n",
    "\n",
    "    print(train_number.shape)\n",
    "    \n",
    "    return train_number,dev_number,test_number\n"
   ]
  },
  {
   "cell_type": "code",
   "execution_count": 12,
   "metadata": {
    "colab": {
     "base_uri": "https://localhost:8080/",
     "height": 34
    },
    "colab_type": "code",
    "id": "X_MDTi0vFkZ7",
    "outputId": "23b9d09c-5a73-41b9-ee32-7123cfab6833"
   },
   "outputs": [
    {
     "name": "stdout",
     "output_type": "stream",
     "text": [
      "(297105, 1)\n"
     ]
    }
   ],
   "source": [
    "train_temperature,dev_temperature,test_temperature    \\\n",
    "   = do_StandardScaler(train_total_df['Temperature'],dev_total_df['Temperature'],test_total_df['Temperature'])"
   ]
  },
  {
   "cell_type": "code",
   "execution_count": 13,
   "metadata": {
    "colab": {
     "base_uri": "https://localhost:8080/",
     "height": 34
    },
    "colab_type": "code",
    "id": "BSOcMWAJFkaA",
    "outputId": "70728cba-f834-4396-942c-319c28a086f1"
   },
   "outputs": [
    {
     "name": "stdout",
     "output_type": "stream",
     "text": [
      "(297105, 1)\n"
     ]
    }
   ],
   "source": [
    "train_fuel_price,dev_fuel_price,test_fuel_price    \\\n",
    "   = do_StandardScaler(train_total_df['Fuel_Price'],dev_total_df['Fuel_Price'],test_total_df['Fuel_Price'])"
   ]
  },
  {
   "cell_type": "code",
   "execution_count": 14,
   "metadata": {
    "colab": {
     "base_uri": "https://localhost:8080/",
     "height": 101
    },
    "colab_type": "code",
    "id": "CohOamCfFkaG",
    "outputId": "272e99a9-1df0-4d9a-c46b-036d81a98d42"
   },
   "outputs": [
    {
     "name": "stdout",
     "output_type": "stream",
     "text": [
      "(297105, 1)\n",
      "(297105, 1)\n",
      "(297105, 1)\n",
      "(297105, 1)\n",
      "(297105, 1)\n"
     ]
    }
   ],
   "source": [
    "train_markdown1,dev_markdown1,test_markdown1   \\\n",
    "   = do_StandardScaler(train_total_df['MarkDown1'],dev_total_df['MarkDown1'],test_total_df['MarkDown1'])\n",
    "\n",
    "train_markdown2,dev_markdown2,test_markdown2   \\\n",
    "   = do_StandardScaler(train_total_df['MarkDown2'],dev_total_df['MarkDown2'],test_total_df['MarkDown2'])\n",
    "\n",
    "train_markdown3,dev_markdown3,test_markdown3   \\\n",
    "   = do_StandardScaler(train_total_df['MarkDown3'],dev_total_df['MarkDown3'],test_total_df['MarkDown3'])\n",
    "\n",
    "train_markdown4,dev_markdown4,test_markdown4   \\\n",
    "   = do_StandardScaler(train_total_df['MarkDown4'],dev_total_df['MarkDown4'],test_total_df['MarkDown4'])\n",
    "\n",
    "train_markdown5,dev_markdown5,test_markdown5   \\\n",
    "   = do_StandardScaler(train_total_df['MarkDown5'],dev_total_df['MarkDown5'],test_total_df['MarkDown5'])"
   ]
  },
  {
   "cell_type": "code",
   "execution_count": 15,
   "metadata": {
    "colab": {
     "base_uri": "https://localhost:8080/",
     "height": 34
    },
    "colab_type": "code",
    "id": "Ap8EEmxFFkat",
    "outputId": "4189f6d2-1fc9-425b-ed3e-2f06162a1331"
   },
   "outputs": [
    {
     "name": "stdout",
     "output_type": "stream",
     "text": [
      "(297105, 1)\n"
     ]
    }
   ],
   "source": [
    "train_cpi,dev_cpi,test_cpi    \\\n",
    "   = do_StandardScaler(train_total_df['CPI'],dev_total_df['CPI'],test_total_df['CPI'])"
   ]
  },
  {
   "cell_type": "code",
   "execution_count": 16,
   "metadata": {
    "colab": {
     "base_uri": "https://localhost:8080/",
     "height": 34
    },
    "colab_type": "code",
    "id": "kHS9mlzIFka1",
    "outputId": "be92480f-ab71-4cfe-dffd-a78a44cf41ef"
   },
   "outputs": [
    {
     "name": "stdout",
     "output_type": "stream",
     "text": [
      "(297105, 1)\n"
     ]
    }
   ],
   "source": [
    "train_unemployment,dev_unemployment,test_unemployment   \\\n",
    "   = do_StandardScaler(train_total_df['Unemployment'],dev_total_df['Unemployment'],test_total_df['Unemployment'])"
   ]
  },
  {
   "cell_type": "code",
   "execution_count": 17,
   "metadata": {
    "colab": {
     "base_uri": "https://localhost:8080/",
     "height": 34
    },
    "colab_type": "code",
    "id": "_0LrPaZYFka7",
    "outputId": "73fef6d4-1729-464b-d7db-8e25c3f018d6"
   },
   "outputs": [
    {
     "name": "stdout",
     "output_type": "stream",
     "text": [
      "Shape of matrix after one hot encodig  (297105, 3)\n"
     ]
    }
   ],
   "source": [
    "type_onehotencoder = OneHotEncoder() \n",
    "type_onehotencoder.fit(train_total_df[['Type']])\n",
    "\n",
    "train_type_one_hot=type_onehotencoder.transform(train_total_df[['Type']])\n",
    "dev_type_one_hot=type_onehotencoder.transform(dev_total_df[['Type']])\n",
    "test_type_one_hot=type_onehotencoder.transform(test_total_df[['Type']])\n",
    "\n",
    "print(\"Shape of matrix after one hot encodig \",train_type_one_hot.shape)"
   ]
  },
  {
   "cell_type": "code",
   "execution_count": 18,
   "metadata": {
    "colab": {
     "base_uri": "https://localhost:8080/",
     "height": 34
    },
    "colab_type": "code",
    "id": "u-mbSmmsFkbB",
    "outputId": "9e6dbe17-b642-41cf-bc73-9074bce9c34d"
   },
   "outputs": [
    {
     "name": "stdout",
     "output_type": "stream",
     "text": [
      "(297105, 1)\n"
     ]
    }
   ],
   "source": [
    "train_size,dev_size,test_size   \\\n",
    "   = do_StandardScaler(train_total_df['Size'],dev_total_df['Size'],test_total_df['Size'])"
   ]
  },
  {
   "cell_type": "code",
   "execution_count": 19,
   "metadata": {
    "colab": {
     "base_uri": "https://localhost:8080/",
     "height": 34
    },
    "colab_type": "code",
    "id": "NOS6SePEFkbH",
    "outputId": "b5bb0d05-d9d6-4700-f911-e74466564bd2"
   },
   "outputs": [
    {
     "name": "stdout",
     "output_type": "stream",
     "text": [
      "Shape of matrix after one hot encodig  (297105, 52)\n"
     ]
    }
   ],
   "source": [
    "week_of_year_onehotencoder = OneHotEncoder() \n",
    "week_of_year_onehotencoder.fit(train_total_df[['week_of_year']])\n",
    "\n",
    "train_week_of_year_one_hot=week_of_year_onehotencoder.transform(train_total_df[['week_of_year']])\n",
    "dev_week_of_year_one_hot=week_of_year_onehotencoder.transform(dev_total_df[['week_of_year']])\n",
    "test_week_of_year_one_hot=week_of_year_onehotencoder.transform(test_total_df[['week_of_year']])\n",
    "\n",
    "print(\"Shape of matrix after one hot encodig \",train_week_of_year_one_hot.shape)"
   ]
  },
  {
   "cell_type": "code",
   "execution_count": 20,
   "metadata": {
    "colab": {
     "base_uri": "https://localhost:8080/",
     "height": 34
    },
    "colab_type": "code",
    "id": "qOVMS18zFkbP",
    "outputId": "982fcb7b-734f-4f10-cd12-cada6a1425af"
   },
   "outputs": [
    {
     "name": "stdout",
     "output_type": "stream",
     "text": [
      "Shape of matrix after one hot encodig  (297105, 12)\n"
     ]
    }
   ],
   "source": [
    "\n",
    "\n",
    "month_of_year_onehotencoder = OneHotEncoder() \n",
    "month_of_year_onehotencoder.fit(train_total_df[['month_of_year']])\n",
    "\n",
    "train_month_of_year_one_hot=month_of_year_onehotencoder.transform(train_total_df[['month_of_year']])\n",
    "dev_month_of_year_one_hot=month_of_year_onehotencoder.transform(dev_total_df[['month_of_year']])\n",
    "test_month_of_year_one_hot=month_of_year_onehotencoder.transform(test_total_df[['month_of_year']])\n",
    "\n",
    "print(\"Shape of matrix after one hot encodig \",train_month_of_year_one_hot.shape)"
   ]
  },
  {
   "cell_type": "code",
   "execution_count": 0,
   "metadata": {
    "colab": {},
    "colab_type": "code",
    "id": "LguzK222f24k"
   },
   "outputs": [],
   "source": [
    "def get_graph(train_df,predict_df):\n",
    "  ts = train_df.groupby('Date')['Weekly_Sales'].sum().reset_index()\n",
    "  ts = ts.set_index('Date')\n",
    "\n",
    "\n",
    "  ts1 = predict_df.groupby('Date')['Weekly_Sales'].sum().reset_index()\n",
    "  ts1 = ts1.set_index('Date')\n",
    "\n",
    "  r=train_df[train_df['IsHoliday']==True]\n",
    "\n",
    "  r=r['Date'].drop_duplicates() \n",
    "\n",
    "  holiday_date_=[]\n",
    "  for i in r:\n",
    "    holiday_date_.append(i)\n",
    "\n",
    "  holiday_date=[]\n",
    "  holiday_sale=[]\n",
    "  k=0\n",
    "  for i in ts.iterrows():\n",
    "    if i[0] in holiday_date_:\n",
    "        holiday_date.append(k)\n",
    "        holiday_sale.append(i[1]['Weekly_Sales'])\n",
    "    k=k+1\n",
    "\n",
    "\n",
    "  ts.plot(figsize=(10,5),marker='o')\n",
    "  plt.plot(holiday_date,holiday_sale,color='red',marker='o')\n",
    "  ts1.plot(figsize=(10,5),marker='o')\n",
    "  plt.plot(holiday_date,holiday_sale,color='red',marker='o')\n",
    "\n"
   ]
  },
  {
   "cell_type": "code",
   "execution_count": 0,
   "metadata": {
    "colab": {},
    "colab_type": "code",
    "id": "YW_GiZtJf2_8"
   },
   "outputs": [],
   "source": [
    "def weighted_mean_absolute_error(act_val,pred_val,holiday_list):\n",
    "  weight=0\n",
    "  temp_val=0\n",
    "  sum_wt=0\n",
    "  holiday_list=holiday_list.values.tolist()\n",
    "  act_val=act_val.values.tolist()\n",
    "  \n",
    "  for i in range(len(act_val)):\n",
    "    if holiday_list[i][0] == 0.0:\n",
    "      weight=1\n",
    "    else:\n",
    "      weight=5\n",
    "\n",
    "    sum_wt=sum_wt+weight\n",
    "    temp_val=temp_val + (abs(act_val[i][0]-pred_val[i]) * weight)\n",
    "    \n",
    "\n",
    "  return temp_val/sum_wt"
   ]
  },
  {
   "cell_type": "code",
   "execution_count": 0,
   "metadata": {
    "colab": {},
    "colab_type": "code",
    "id": "lMr-qWFnFkbV"
   },
   "outputs": [],
   "source": [
    "['Unnamed: 0', 'Unnamed: 0.1', 'Store', 'Dept', 'Date', 'Weekly_Sales',\n",
    "       'IsHoliday', 'Temperature', 'Fuel_Price', 'MarkDown1', 'MarkDown2',\n",
    "       'MarkDown3', 'MarkDown4', 'MarkDown5', 'CPI', 'Unemployment', 'Type',\n",
    "       'Size', 'date', 'Super_Bowl_Day', 'Labor_Day', 'Thanksgiving_Day',\n",
    "       'Christmas_Day', 'Next_Week_Of_Thanksgiving',\n",
    "       'Next_Holiday_Week_Of_Thanksgiving', 'Next_Week_Of_Christmas',\n",
    "       'week_of_year', 'month_of_year']"
   ]
  },
  {
   "cell_type": "code",
   "execution_count": 23,
   "metadata": {
    "colab": {
     "base_uri": "https://localhost:8080/",
     "height": 67
    },
    "colab_type": "code",
    "id": "Ya6uUgyQFkbb",
    "outputId": "b037e744-495e-4c18-8c20-66fae9109aea"
   },
   "outputs": [
    {
     "name": "stdout",
     "output_type": "stream",
     "text": [
      "Train data:  (297105, 214)\n",
      "Dev data:  (44608, 214)\n",
      "Test data:  (79857, 214)\n"
     ]
    }
   ],
   "source": [
    "from scipy.sparse import hstack\n",
    "\n",
    "X_train = hstack((train_store_one_hot,train_dept_one_hot,train_holiday,train_temperature,  \\\n",
    "                 train_fuel_price,train_markdown1,train_markdown2,train_markdown3,train_markdown4,  \\\n",
    "                  train_markdown5,train_cpi,train_unemployment,train_type_one_hot,train_size  ,  \\\n",
    "                  train_total_df[['date']],train_total_df[['Super_Bowl_Day']],  \\\n",
    "                  train_total_df[['Labor_Day']],train_total_df[['Thanksgiving_Day']],  \\\n",
    "                  train_total_df[['Christmas_Day']],train_total_df[['Next_Week_Of_Thanksgiving']],  \\\n",
    "                  train_total_df[['Next_Holiday_Week_Of_Thanksgiving']],train_total_df[['Next_Week_Of_Christmas']],  \\\n",
    "                  train_week_of_year_one_hot,train_month_of_year_one_hot,train_total_df[['before_Christmas_Day']],  \\\n",
    "                  train_total_df[['low_sales_dep']]\n",
    "                 )).tocsr()\n",
    "\n",
    "\n",
    "print(\"Train data: \",X_train.shape)\n",
    "\n",
    "X_dev = hstack((dev_store_one_hot,dev_dept_one_hot,dev_holiday,dev_temperature,  \\\n",
    "                 dev_fuel_price,dev_markdown1,dev_markdown2,dev_markdown3,dev_markdown4,  \\\n",
    "                  dev_markdown5,dev_cpi,dev_unemployment,dev_type_one_hot,dev_size  ,  \\\n",
    "                  dev_total_df[['date']],dev_total_df[['Super_Bowl_Day']],  \\\n",
    "                  dev_total_df[['Labor_Day']],dev_total_df[['Thanksgiving_Day']],  \\\n",
    "                  dev_total_df[['Christmas_Day']],dev_total_df[['Next_Week_Of_Thanksgiving']],  \\\n",
    "                  dev_total_df[['Next_Holiday_Week_Of_Thanksgiving']],dev_total_df[['Next_Week_Of_Christmas']],  \\\n",
    "                  dev_week_of_year_one_hot,dev_month_of_year_one_hot,dev_total_df[['before_Christmas_Day']],  \\\n",
    "                  dev_total_df[['low_sales_dep']]\n",
    "                 )).tocsr()\n",
    "\n",
    "print(\"Dev data: \",X_dev.shape)\n",
    "\n",
    "\n",
    "X_test = hstack((test_store_one_hot,test_dept_one_hot,test_holiday,test_temperature,  \\\n",
    "                 test_fuel_price,test_markdown1,test_markdown2,test_markdown3,test_markdown4,  \\\n",
    "                  test_markdown5,test_cpi,test_unemployment,test_type_one_hot,test_size  ,  \\\n",
    "                  test_total_df[['date']],test_total_df[['Super_Bowl_Day']],  \\\n",
    "                  test_total_df[['Labor_Day']],test_total_df[['Thanksgiving_Day']],  \\\n",
    "                  test_total_df[['Christmas_Day']],test_total_df[['Next_Week_Of_Thanksgiving']],  \\\n",
    "                  test_total_df[['Next_Holiday_Week_Of_Thanksgiving']],test_total_df[['Next_Week_Of_Christmas']],  \\\n",
    "                  test_week_of_year_one_hot,test_month_of_year_one_hot,test_total_df[['before_Christmas_Day']],  \\\n",
    "                  test_total_df[['low_sales_dep']]\n",
    "                 )).tocsr()\n",
    "\n",
    "print(\"Test data: \",X_test.shape)"
   ]
  },
  {
   "cell_type": "code",
   "execution_count": 24,
   "metadata": {
    "colab": {
     "base_uri": "https://localhost:8080/",
     "height": 67
    },
    "colab_type": "code",
    "id": "SiOdUVWMFkbg",
    "outputId": "bedc8746-2df3-46dd-bf7b-89b32fe6edaf"
   },
   "outputs": [
    {
     "name": "stdout",
     "output_type": "stream",
     "text": [
      "train data:  (297105, 1)\n",
      "dev data:  (44608, 1)\n",
      "Test data:  (79857, 1)\n"
     ]
    }
   ],
   "source": [
    "Y_train=train_total_df[['Weekly_Sales']]\n",
    "print(\"train data: \",Y_train.shape)\n",
    "Y_dev  =dev_total_df[['Weekly_Sales']]\n",
    "print(\"dev data: \",Y_dev.shape)\n",
    "Y_test =test_total_df[['Weekly_Sales']]\n",
    "print(\"Test data: \",Y_test.shape)"
   ]
  },
  {
   "cell_type": "markdown",
   "metadata": {
    "colab_type": "text",
    "id": "letqQs91Fkbl"
   },
   "source": [
    "## Using Linear Regression"
   ]
  },
  {
   "cell_type": "code",
   "execution_count": 0,
   "metadata": {
    "colab": {
     "base_uri": "https://localhost:8080/",
     "height": 34
    },
    "colab_type": "code",
    "id": "vsp1jsVzFkbo",
    "outputId": "2322c668-8d87-431a-ee62-1f3b2b614e6a"
   },
   "outputs": [
    {
     "data": {
      "text/plain": [
       "LinearRegression(copy_X=True, fit_intercept=True, n_jobs=None, normalize=False)"
      ]
     },
     "execution_count": 25,
     "metadata": {
      "tags": []
     },
     "output_type": "execute_result"
    }
   ],
   "source": [
    "from sklearn.linear_model import LinearRegression\n",
    "from sklearn.model_selection import GridSearchCV\n",
    "from sklearn.metrics import mean_absolute_error\n",
    "\n",
    "lr_reg=LinearRegression()\n",
    "lr_reg.fit(X_train, Y_train)"
   ]
  },
  {
   "cell_type": "code",
   "execution_count": 0,
   "metadata": {
    "colab": {},
    "colab_type": "code",
    "id": "3u4MzJIWFkb0"
   },
   "outputs": [],
   "source": [
    "Y_pred = lr_reg.predict(X_test)"
   ]
  },
  {
   "cell_type": "code",
   "execution_count": 0,
   "metadata": {
    "colab": {
     "base_uri": "https://localhost:8080/",
     "height": 34
    },
    "colab_type": "code",
    "id": "LEeBz15hFkb6",
    "outputId": "3b35aa3f-fd2f-45e7-e8e6-fa9d55c99f4f"
   },
   "outputs": [
    {
     "name": "stdout",
     "output_type": "stream",
     "text": [
      "The MAE for  LinearRegression :  15743.896105056981\n"
     ]
    }
   ],
   "source": [
    "print(\"The MAE for  LinearRegression : \",mean_absolute_error(Y_test,Y_pred))"
   ]
  },
  {
   "cell_type": "code",
   "execution_count": 0,
   "metadata": {
    "colab": {},
    "colab_type": "code",
    "id": "GTeeOCNxfqO0"
   },
   "outputs": [],
   "source": [
    "Y_dev_pred = lr_reg.predict(X_dev)\n",
    "dev_predictions = [value for value in Y_dev_pred]\n",
    "Y_test_pred = lr_reg.predict(X_test)\n",
    "test_predictions = [value for value in Y_test_pred]"
   ]
  },
  {
   "cell_type": "code",
   "execution_count": 0,
   "metadata": {
    "colab": {
     "base_uri": "https://localhost:8080/",
     "height": 34
    },
    "colab_type": "code",
    "id": "aI4LMEz8fqbX",
    "outputId": "94982e3a-76a0-4d55-d903-aed5e9e5baeb"
   },
   "outputs": [
    {
     "data": {
      "text/plain": [
       "array([18670.29059426])"
      ]
     },
     "execution_count": 51,
     "metadata": {
      "tags": []
     },
     "output_type": "execute_result"
    }
   ],
   "source": [
    "dev_error=weighted_mean_absolute_error(Y_dev,dev_predictions,dev_holiday)\n",
    "dev_error"
   ]
  },
  {
   "cell_type": "code",
   "execution_count": 0,
   "metadata": {
    "colab": {
     "base_uri": "https://localhost:8080/",
     "height": 34
    },
    "colab_type": "code",
    "id": "EkA58dp2h5rW",
    "outputId": "78857723-0a1b-41de-91c9-cbbc5b7097d4"
   },
   "outputs": [
    {
     "data": {
      "text/plain": [
       "array([15794.14709949])"
      ]
     },
     "execution_count": 52,
     "metadata": {
      "tags": []
     },
     "output_type": "execute_result"
    }
   ],
   "source": [
    "test_error=weighted_mean_absolute_error(Y_test,test_predictions,test_holiday)\n",
    "test_error"
   ]
  },
  {
   "cell_type": "code",
   "execution_count": 0,
   "metadata": {
    "colab": {},
    "colab_type": "code",
    "id": "JJ9K56tVieyj"
   },
   "outputs": [],
   "source": [
    "df_dev_error=pd.DataFrame(dev_predictions,columns=['Weekly_Sales'])\n",
    "df_test_error=pd.DataFrame(test_predictions,columns=['Weekly_Sales'])\n",
    "\n",
    "result_dev = pd.concat([df_dev_error,dev_total_df[['Date']]], axis=1)\n",
    "result_test = pd.concat([df_test_error,test_total_df[['Date']]], axis=1)\n",
    "\n",
    "frames1 = [result_dev, result_test]\n",
    "frames2 = [dev_total_df, test_total_df]\n",
    "\n",
    "result = pd.concat(frames1)\n",
    "actual = pd.concat(frames2)"
   ]
  },
  {
   "cell_type": "code",
   "execution_count": 0,
   "metadata": {
    "colab": {
     "base_uri": "https://localhost:8080/",
     "height": 673
    },
    "colab_type": "code",
    "id": "DlsVA5GWie5z",
    "outputId": "2283c8c0-1ed5-4bc4-b1b9-9b184cabf26e"
   },
   "outputs": [
    {
     "data": {
      "image/png": "[encoded data removed]",
      "text/plain": [
       "<Figure size 720x360 with 1 Axes>"
      ]
     },
     "metadata": {
      "tags": []
     },
     "output_type": "display_data"
    },
    {
     "data": {
      "image/png": "[encoded data removed]",
      "text/plain": [
       "<Figure size 720x360 with 1 Axes>"
      ]
     },
     "metadata": {
      "tags": []
     },
     "output_type": "display_data"
    }
   ],
   "source": [
    "get_graph(actual,result)"
   ]
  },
  {
   "cell_type": "markdown",
   "metadata": {
    "colab_type": "text",
    "id": "xks5V0fpFkb_"
   },
   "source": [
    "## Using Random Forest Regressor"
   ]
  },
  {
   "cell_type": "code",
   "execution_count": 0,
   "metadata": {
    "colab": {},
    "colab_type": "code",
    "id": "BHPABV54WxxC"
   },
   "outputs": [],
   "source": [
    "def my_custom_loss_func(act_val,pred_val):\n",
    "  weight=0\n",
    "  temp_val=0\n",
    "  sum_wt=0\n",
    "  holiday_list=train_holiday.values.tolist()\n",
    "  act_val=act_val.values.tolist()\n",
    "  \n",
    "  for i in range(len(act_val)):\n",
    "    if holiday_list[i][0] == 0.0:\n",
    "      weight=1\n",
    "    else:\n",
    "      weight=5\n",
    "\n",
    "    sum_wt=sum_wt+weight\n",
    "\n",
    "    temp_val=temp_val + (abs(act_val[i][0]-pred_val[i]) * weight)\n",
    "    \n",
    "\n",
    "  return temp_val/sum_wt\n"
   ]
  },
  {
   "cell_type": "code",
   "execution_count": 0,
   "metadata": {
    "colab": {},
    "colab_type": "code",
    "id": "hYNWu58MWmYO"
   },
   "outputs": [],
   "source": [
    "from sklearn.metrics.scorer import make_scorer\n",
    "\n",
    "my_scorer= make_scorer(my_custom_loss_func, greater_is_better=False)"
   ]
  },
  {
   "cell_type": "code",
   "execution_count": 0,
   "metadata": {
    "colab": {},
    "colab_type": "code",
    "id": "ZxA9VZxOFkcB"
   },
   "outputs": [],
   "source": [
    "from sklearn.model_selection import RandomizedSearchCV\n",
    "from sklearn.ensemble import RandomForestRegressor\n",
    "\n",
    "clf=RandomForestRegressor()  \n",
    "parameters={'n_estimators':[50, 100, 150, 200,250,300],'max_depth':[10,15,17,20,22,25,27,30,35],\n",
    "           'min_samples_leaf':[2, 3, 4, 5, 7,9],'min_samples_split':[2, 3, 4, 5,6]}\n",
    "model = RandomizedSearchCV(clf, parameters,scoring=my_scorer,n_jobs=-1)\n",
    "model.fit(X_train, Y_train)"
   ]
  },
  {
   "cell_type": "code",
   "execution_count": 0,
   "metadata": {
    "colab": {
     "base_uri": "https://localhost:8080/",
     "height": 51
    },
    "colab_type": "code",
    "id": "6ZOXgXS1FkcJ",
    "outputId": "8954e661-31b3-4d41-aa4c-d52db00fb4b6"
   },
   "outputs": [
    {
     "name": "stdout",
     "output_type": "stream",
     "text": [
      "Best cross-validation score: -5494.46\n",
      "Best parameters:  {'n_estimators': 150, 'min_samples_split': 2, 'min_samples_leaf': 5, 'max_depth': 22}\n"
     ]
    }
   ],
   "source": [
    "print(\"Best cross-validation score: {:.2f}\".format(model.best_score_))\n",
    "print(\"Best parameters: \", model.best_params_)"
   ]
  },
  {
   "cell_type": "code",
   "execution_count": 26,
   "metadata": {
    "colab": {
     "base_uri": "https://localhost:8080/",
     "height": 134
    },
    "colab_type": "code",
    "id": "iK1g9nTyDiO-",
    "outputId": "91ff0e99-ee62-4588-cdbb-8843e3676a4d"
   },
   "outputs": [
    {
     "data": {
      "text/plain": [
       "RandomForestRegressor(bootstrap=True, ccp_alpha=0.0, criterion='mse',\n",
       "                      max_depth=22, max_features='auto', max_leaf_nodes=None,\n",
       "                      max_samples=None, min_impurity_decrease=0.0,\n",
       "                      min_impurity_split=None, min_samples_leaf=5,\n",
       "                      min_samples_split=2, min_weight_fraction_leaf=0.0,\n",
       "                      n_estimators=150, n_jobs=None, oob_score=False,\n",
       "                      random_state=None, verbose=0, warm_start=False)"
      ]
     },
     "execution_count": 26,
     "metadata": {
      "tags": []
     },
     "output_type": "execute_result"
    }
   ],
   "source": [
    "from sklearn.ensemble import RandomForestRegressor\n",
    "regr1 = RandomForestRegressor(min_samples_leaf=5,min_samples_split=2,n_estimators=150,max_depth=22)\n",
    "regr1.fit(X_train, Y_train)"
   ]
  },
  {
   "cell_type": "code",
   "execution_count": 0,
   "metadata": {
    "colab": {},
    "colab_type": "code",
    "id": "UQiCAstYIskT"
   },
   "outputs": [],
   "source": [
    "Y_dev_pred = regr1.predict(X_dev)\n",
    "dev_predictions = [value for value in Y_dev_pred]\n",
    "Y_test_pred = regr1.predict(X_test)\n",
    "test_predictions = [value for value in Y_test_pred]"
   ]
  },
  {
   "cell_type": "code",
   "execution_count": 28,
   "metadata": {
    "colab": {
     "base_uri": "https://localhost:8080/",
     "height": 34
    },
    "colab_type": "code",
    "id": "5T_ON5aFiQm1",
    "outputId": "bed6e2c3-667d-43f1-c6e8-fc778f339cce"
   },
   "outputs": [
    {
     "data": {
      "text/plain": [
       "5142.7788421119585"
      ]
     },
     "execution_count": 28,
     "metadata": {
      "tags": []
     },
     "output_type": "execute_result"
    }
   ],
   "source": [
    "dev_error=weighted_mean_absolute_error(Y_dev,dev_predictions,dev_holiday)\n",
    "dev_error"
   ]
  },
  {
   "cell_type": "code",
   "execution_count": 29,
   "metadata": {
    "colab": {
     "base_uri": "https://localhost:8080/",
     "height": 34
    },
    "colab_type": "code",
    "id": "wnFyGuG4l9ky",
    "outputId": "eec028ee-b2b3-4d04-b0c6-a50400abe94a"
   },
   "outputs": [
    {
     "data": {
      "text/plain": [
       "5335.562153176323"
      ]
     },
     "execution_count": 29,
     "metadata": {
      "tags": []
     },
     "output_type": "execute_result"
    }
   ],
   "source": [
    "test_error=weighted_mean_absolute_error(Y_test,test_predictions,test_holiday)\n",
    "test_error"
   ]
  },
  {
   "cell_type": "code",
   "execution_count": 0,
   "metadata": {
    "colab": {},
    "colab_type": "code",
    "id": "2apHxdcvmAou"
   },
   "outputs": [],
   "source": [
    "df_dev_error=pd.DataFrame(dev_predictions,columns=['Weekly_Sales'])\n",
    "df_test_error=pd.DataFrame(test_predictions,columns=['Weekly_Sales'])\n",
    "\n",
    "result_dev = pd.concat([df_dev_error,dev_total_df[['Date']]], axis=1)\n",
    "result_test = pd.concat([df_test_error,test_total_df[['Date']]], axis=1)\n",
    "\n",
    "frames1 = [result_dev, result_test]\n",
    "frames2 = [dev_total_df, test_total_df]\n",
    "\n",
    "result = pd.concat(frames1)\n",
    "actual = pd.concat(frames2)"
   ]
  },
  {
   "cell_type": "code",
   "execution_count": 31,
   "metadata": {
    "colab": {
     "base_uri": "https://localhost:8080/",
     "height": 673
    },
    "colab_type": "code",
    "id": "XFyvoGx2mDcB",
    "outputId": "4d26a527-0104-4cf7-d7fd-ea01ec506e1c"
   },
   "outputs": [
    {
     "data": {
      "image/png": "[encoded data removed]",
      "text/plain": [
       "<Figure size 720x360 with 1 Axes>"
      ]
     },
     "metadata": {
      "tags": []
     },
     "output_type": "display_data"
    },
    {
     "data": {
      "image/png": "[encoded data removed]",
      "text/plain": [
       "<Figure size 720x360 with 1 Axes>"
      ]
     },
     "metadata": {
      "tags": []
     },
     "output_type": "display_data"
    }
   ],
   "source": [
    "get_graph(actual,result)"
   ]
  },
  {
   "cell_type": "code",
   "execution_count": 32,
   "metadata": {
    "colab": {
     "base_uri": "https://localhost:8080/",
     "height": 924
    },
    "colab_type": "code",
    "id": "PadkaMaZjFHo",
    "outputId": "b8cf98fc-0f1d-4b22-e028-5cf1902f260d"
   },
   "outputs": [
    {
     "name": "stdout",
     "output_type": "stream",
     "text": [
      "[3.84750503e-03 1.81711042e-03 2.86012445e-03 3.07353949e-03\n",
      " 8.04382304e-06 1.65941906e-03 1.77121959e-04 1.37850605e-04\n",
      " 5.60421028e-04 2.04160869e-02 2.60059516e-03 1.30823383e-04\n",
      " 1.41050391e-03 6.00345991e-03 5.31347163e-04 1.33544487e-04\n",
      " 1.19868951e-03 1.06718838e-03 7.69888625e-04 4.11628491e-03\n",
      " 5.60677214e-04 9.15338571e-04 1.92973538e-03 9.47134484e-04\n",
      " 1.25478431e-04 2.10864067e-03 1.77932509e-03 4.53095119e-04\n",
      " 1.55387709e-04 1.44103124e-04 7.79909947e-04 1.47068782e-03\n",
      " 1.25253447e-03 3.66665452e-05 1.17707108e-03 1.50860953e-03\n",
      " 5.37011426e-04 6.09378971e-05 3.44004927e-04 3.77453916e-04\n",
      " 4.80350593e-04 1.33421765e-03 2.22081608e-03 4.47603254e-04\n",
      " 2.08471396e-04 5.66812543e-03 3.62459720e-02 0.00000000e+00\n",
      " 1.14569526e-02 9.29340179e-03 0.00000000e+00 1.34105067e-02\n",
      " 1.65959329e-02 7.25922270e-03 5.58737044e-03 5.33430178e-05\n",
      " 0.00000000e+00 1.69376686e-02 3.57156278e-04 0.00000000e+00\n",
      " 0.00000000e+00 0.00000000e+00 0.00000000e+00 0.00000000e+00\n",
      " 0.00000000e+00 0.00000000e+00 8.10048306e-03 0.00000000e+00\n",
      " 0.00000000e+00 0.00000000e+00 0.00000000e+00 0.00000000e+00\n",
      " 0.00000000e+00 0.00000000e+00 0.00000000e+00 0.00000000e+00\n",
      " 0.00000000e+00 6.45577789e-04 0.00000000e+00 0.00000000e+00\n",
      " 0.00000000e+00 7.16188486e-02 0.00000000e+00 3.75015632e-02\n",
      " 0.00000000e+00 0.00000000e+00 0.00000000e+00 0.00000000e+00\n",
      " 0.00000000e+00 6.56749609e-03 0.00000000e+00 0.00000000e+00\n",
      " 0.00000000e+00 0.00000000e+00 0.00000000e+00 0.00000000e+00\n",
      " 0.00000000e+00 0.00000000e+00 0.00000000e+00 0.00000000e+00\n",
      " 0.00000000e+00 0.00000000e+00 1.71606257e-05 0.00000000e+00\n",
      " 0.00000000e+00 4.93816915e-02 4.93484821e-04 0.00000000e+00\n",
      " 0.00000000e+00 7.36632305e-03 4.93789152e-04 4.22220837e-04\n",
      " 0.00000000e+00 0.00000000e+00 0.00000000e+00 0.00000000e+00\n",
      " 4.78641718e-02 2.71800237e-02 1.11300819e-01 1.32343623e-02\n",
      " 2.06951561e-02 9.76038279e-02 6.58681596e-04 4.03268914e-04\n",
      " 0.00000000e+00 0.00000000e+00 3.63098887e-04 7.68709836e-03\n",
      " 1.73086183e-03 2.11624883e-04 2.02837286e-04 1.08685424e-03\n",
      " 2.41484513e-04 3.04904323e-04 1.15865121e-02 8.96575683e-03\n",
      " 3.42413915e-03 6.62521728e-03 4.43405436e-03 1.95974129e-01\n",
      " 2.80906663e-03 3.64886222e-07 1.21791058e-06 2.66458154e-02\n",
      " 2.80482642e-04 2.84241523e-04 2.97334220e-04 7.18165541e-06\n",
      " 2.35747653e-05 7.18937703e-08 2.89122907e-07 2.11967133e-06\n",
      " 2.71924888e-06 4.95399946e-07 3.67446282e-06 2.24948643e-06\n",
      " 1.99757257e-05 0.00000000e+00 1.38899288e-08 1.30481563e-07\n",
      " 1.24075581e-07 1.25233629e-06 1.75741696e-07 8.23467548e-06\n",
      " 1.60807137e-06 8.55859455e-07 1.57206018e-06 1.01183769e-07\n",
      " 1.14779174e-07 8.18028584e-07 2.08375406e-07 2.43811151e-10\n",
      " 2.12686717e-07 3.44933715e-07 1.39210713e-06 8.39886781e-08\n",
      " 3.19378036e-08 3.18597690e-08 1.05327802e-06 2.23323653e-07\n",
      " 1.25414949e-06 3.67653109e-07 2.08657562e-07 1.42390814e-07\n",
      " 1.20087981e-07 9.77441525e-10 1.00787525e-08 9.14834817e-07\n",
      " 2.06922893e-06 1.56878405e-06 1.16047560e-05 6.52473263e-06\n",
      " 3.07474707e-05 4.93435963e-04 1.89144664e-03 1.07522911e-04\n",
      " 4.86709222e-06 3.34122707e-05 5.34218842e-05 1.32070941e-06\n",
      " 2.49395809e-04 7.17113582e-04 6.77293967e-05 8.63926727e-05\n",
      " 4.17610840e-05 1.87439919e-04 6.83639237e-05 5.45223058e-05\n",
      " 8.23142672e-05 4.87327524e-05 2.97063457e-04 8.54965443e-03\n",
      " 1.53811102e-02 0.00000000e+00]\n"
     ]
    }
   ],
   "source": [
    "\n",
    "print (regr1.feature_importances_)"
   ]
  },
  {
   "cell_type": "markdown",
   "metadata": {
    "colab_type": "text",
    "id": "YfEaSW6ZoM92"
   },
   "source": [
    "# **Using Xgboost**"
   ]
  },
  {
   "cell_type": "code",
   "execution_count": 0,
   "metadata": {
    "colab": {
     "base_uri": "https://localhost:8080/",
     "height": 454
    },
    "colab_type": "code",
    "id": "TVMslPzYd3Oz",
    "outputId": "7983c93f-9752-4a1f-bb58-ee34e85c4add"
   },
   "outputs": [
    {
     "name": "stdout",
     "output_type": "stream",
     "text": [
      "[05:44:52] WARNING: /workspace/src/objective/regression_obj.cu:152: reg:linear is now deprecated in favor of reg:squarederror.\n"
     ]
    },
    {
     "data": {
      "text/plain": [
       "RandomizedSearchCV(cv=None, error_score=nan,\n",
       "                   estimator=XGBRegressor(base_score=0.5, booster='gbtree',\n",
       "                                          colsample_bylevel=1,\n",
       "                                          colsample_bynode=1,\n",
       "                                          colsample_bytree=1, gamma=0,\n",
       "                                          importance_type='gain',\n",
       "                                          learning_rate=0.1, max_delta_step=0,\n",
       "                                          max_depth=3, min_child_weight=1,\n",
       "                                          missing=None, n_estimators=100,\n",
       "                                          n_jobs=1, nthread=None,\n",
       "                                          objective='reg:linear',\n",
       "                                          random_state=0, reg_alp...\n",
       "                   param_distributions={'colsample_bytree': [0.4, 0.5, 0.7],\n",
       "                                        'learning_rate': [0.01, 0.05, 0.1, 0.2,\n",
       "                                                          0.3, 0.5],\n",
       "                                        'max_depth': [7, 10, 15, 20, 22, 25, 27,\n",
       "                                                      30, 35],\n",
       "                                        'min_child_weight': [1, 2, 3, 4, 5, 6],\n",
       "                                        'n_estimators': [50, 100, 150, 200, 250,\n",
       "                                                         300],\n",
       "                                        'subsample': [0.3, 0.5, 0.7, 0.9]},\n",
       "                   pre_dispatch='2*n_jobs', random_state=None, refit=True,\n",
       "                   return_train_score=False,\n",
       "                   scoring=make_scorer(my_custom_loss_func, greater_is_better=False),\n",
       "                   verbose=0)"
      ]
     },
     "execution_count": 27,
     "metadata": {
      "tags": []
     },
     "output_type": "execute_result"
    }
   ],
   "source": [
    "import xgboost as xgb\n",
    "from sklearn.model_selection import RandomizedSearchCV\n",
    "\n",
    "\n",
    "clf_xgb = xgb.XGBRegressor()\n",
    "param_dist = {'n_estimators': [50,100,150,200,250,300],\n",
    "              'learning_rate':[0.01,0.05,0.1,0.2,0.3,0.5],\n",
    "              'subsample': [0.3,0.5,0.7,0.9],\n",
    "              'max_depth': [7,10,15,20,22,25,27,30,35],\n",
    "              'colsample_bytree': [0.4,0.5,0.7],\n",
    "              'min_child_weight': [1, 2, 3, 4,5,6]\n",
    "             }\n",
    "\n",
    "model = RandomizedSearchCV(clf_xgb, param_dist,scoring=my_scorer, n_jobs=-1)\n",
    "model.fit(X_train, Y_train)"
   ]
  },
  {
   "cell_type": "code",
   "execution_count": 0,
   "metadata": {
    "colab": {
     "base_uri": "https://localhost:8080/",
     "height": 70
    },
    "colab_type": "code",
    "id": "-BttLc3jt4XO",
    "outputId": "aaf08e08-451a-4cda-f417-688161dba780"
   },
   "outputs": [
    {
     "name": "stdout",
     "output_type": "stream",
     "text": [
      "Best cross-validation score: -2718.51\n",
      "Best parameters:  {'subsample': 0.9, 'n_estimators': 250, 'min_child_weight': 4, 'max_depth': 20, 'learning_rate': 0.05, 'colsample_bytree': 0.5}\n"
     ]
    }
   ],
   "source": [
    "print(\"Best cross-validation score: {:.2f}\".format(model.best_score_))\n",
    "print(\"Best parameters: \", model.best_params_)"
   ]
  },
  {
   "cell_type": "code",
   "execution_count": 33,
   "metadata": {
    "colab": {
     "base_uri": "https://localhost:8080/",
     "height": 151
    },
    "colab_type": "code",
    "id": "LBEvRrXLuKg0",
    "outputId": "2861f765-402b-404a-99d2-3cb702326a26"
   },
   "outputs": [
    {
     "name": "stdout",
     "output_type": "stream",
     "text": [
      "[03:41:32] WARNING: /workspace/src/objective/regression_obj.cu:152: reg:linear is now deprecated in favor of reg:squarederror.\n"
     ]
    },
    {
     "data": {
      "text/plain": [
       "XGBRegressor(base_score=0.5, booster='gbtree', colsample_bylevel=1,\n",
       "             colsample_bynode=1, colsample_bytree=0.5, gamma=0,\n",
       "             importance_type='gain', learning_rate=0.05, max_delta_step=0,\n",
       "             max_depth=20, min_child_weight=4, missing=None, n_estimators=250,\n",
       "             n_jobs=1, nthread=None, objective='reg:linear', random_state=0,\n",
       "             reg_alpha=0, reg_lambda=1, scale_pos_weight=1, seed=None,\n",
       "             silent=None, subsample=0.9, verbosity=1)"
      ]
     },
     "execution_count": 33,
     "metadata": {
      "tags": []
     },
     "output_type": "execute_result"
    }
   ],
   "source": [
    "import xgboost as xgb\n",
    "x_model = xgb.XGBRegressor(\n",
    " learning_rate =0.05,\n",
    " n_estimators=250,\n",
    " max_depth=20,\n",
    " min_child_weight=4,\n",
    " subsample=0.9,\n",
    " colsample_bytree=0.5)\n",
    "x_model.fit(X_train, Y_train)"
   ]
  },
  {
   "cell_type": "code",
   "execution_count": 0,
   "metadata": {
    "colab": {},
    "colab_type": "code",
    "id": "0Yw-OpLZ2VUl"
   },
   "outputs": [],
   "source": [
    "Y_dev_pred = x_model.predict(X_dev)\n",
    "dev_predictions = [value for value in Y_dev_pred]\n",
    "Y_test_pred = x_model.predict(X_test)\n",
    "test_predictions = [value for value in Y_test_pred]"
   ]
  },
  {
   "cell_type": "code",
   "execution_count": 36,
   "metadata": {
    "colab": {
     "base_uri": "https://localhost:8080/",
     "height": 34
    },
    "colab_type": "code",
    "id": "01__utGW2nnA",
    "outputId": "635678d7-2e47-421a-acdc-5d29a161c9e9"
   },
   "outputs": [
    {
     "data": {
      "text/plain": [
       "2369.000781861774"
      ]
     },
     "execution_count": 36,
     "metadata": {
      "tags": []
     },
     "output_type": "execute_result"
    }
   ],
   "source": [
    "dev_error=weighted_mean_absolute_error(Y_dev,dev_predictions,dev_holiday)\n",
    "dev_error"
   ]
  },
  {
   "cell_type": "code",
   "execution_count": 37,
   "metadata": {
    "colab": {
     "base_uri": "https://localhost:8080/",
     "height": 34
    },
    "colab_type": "code",
    "id": "w80ObarH2s7z",
    "outputId": "e6f57f97-31d6-44e2-d061-65d4063aad01"
   },
   "outputs": [
    {
     "data": {
      "text/plain": [
       "2702.8400159338407"
      ]
     },
     "execution_count": 37,
     "metadata": {
      "tags": []
     },
     "output_type": "execute_result"
    }
   ],
   "source": [
    "test_error=weighted_mean_absolute_error(Y_test,test_predictions,test_holiday)\n",
    "test_error"
   ]
  },
  {
   "cell_type": "code",
   "execution_count": 0,
   "metadata": {
    "colab": {},
    "colab_type": "code",
    "id": "GPYRtj70omrd"
   },
   "outputs": [],
   "source": [
    "df_dev_error=pd.DataFrame(dev_predictions,columns=['Weekly_Sales'])\n",
    "df_test_error=pd.DataFrame(test_predictions,columns=['Weekly_Sales'])\n",
    "\n",
    "result_dev = pd.concat([df_dev_error,dev_total_df[['Date']]], axis=1)\n",
    "result_test = pd.concat([df_test_error,test_total_df[['Date']]], axis=1)\n",
    "\n",
    "frames1 = [result_dev, result_test]\n",
    "frames2 = [dev_total_df, test_total_df]\n",
    "\n",
    "result = pd.concat(frames1)\n",
    "actual = pd.concat(frames2)"
   ]
  },
  {
   "cell_type": "code",
   "execution_count": 39,
   "metadata": {
    "colab": {
     "base_uri": "https://localhost:8080/",
     "height": 673
    },
    "colab_type": "code",
    "id": "HqdOBFFIoszY",
    "outputId": "b19f0779-6d5f-474d-fa90-2b08896b7312"
   },
   "outputs": [
    {
     "data": {
      "image/png": "[encoded data removed]",
      "text/plain": [
       "<Figure size 720x360 with 1 Axes>"
      ]
     },
     "metadata": {
      "tags": []
     },
     "output_type": "display_data"
    },
    {
     "data": {
      "image/png": "[encoded data removed]",
      "text/plain": [
       "<Figure size 720x360 with 1 Axes>"
      ]
     },
     "metadata": {
      "tags": []
     },
     "output_type": "display_data"
    }
   ],
   "source": [
    "get_graph(actual,result)"
   ]
  },
  {
   "cell_type": "code",
   "execution_count": 40,
   "metadata": {
    "colab": {
     "base_uri": "https://localhost:8080/",
     "height": 1000
    },
    "colab_type": "code",
    "id": "6s6froWJ21Nz",
    "outputId": "862a06cb-b924-4906-be22-7663491a5212"
   },
   "outputs": [
    {
     "data": {
      "text/plain": [
       "{'f0': 998,\n",
       " 'f1': 1336,\n",
       " 'f10': 954,\n",
       " 'f100': 133,\n",
       " 'f101': 158,\n",
       " 'f102': 67,\n",
       " 'f103': 180,\n",
       " 'f104': 115,\n",
       " 'f105': 129,\n",
       " 'f106': 236,\n",
       " 'f107': 32,\n",
       " 'f108': 41,\n",
       " 'f109': 213,\n",
       " 'f11': 864,\n",
       " 'f110': 248,\n",
       " 'f111': 228,\n",
       " 'f112': 139,\n",
       " 'f113': 123,\n",
       " 'f114': 101,\n",
       " 'f115': 248,\n",
       " 'f116': 128,\n",
       " 'f117': 189,\n",
       " 'f118': 122,\n",
       " 'f119': 195,\n",
       " 'f12': 1378,\n",
       " 'f120': 157,\n",
       " 'f121': 145,\n",
       " 'f122': 221,\n",
       " 'f123': 219,\n",
       " 'f124': 211,\n",
       " 'f125': 54,\n",
       " 'f126': 4288,\n",
       " 'f127': 98737,\n",
       " 'f128': 73042,\n",
       " 'f129': 6280,\n",
       " 'f13': 1242,\n",
       " 'f130': 5050,\n",
       " 'f131': 7249,\n",
       " 'f132': 4393,\n",
       " 'f133': 5460,\n",
       " 'f134': 95261,\n",
       " 'f135': 43042,\n",
       " 'f136': 4417,\n",
       " 'f137': 3817,\n",
       " 'f138': 2088,\n",
       " 'f139': 30005,\n",
       " 'f14': 1102,\n",
       " 'f140': 56851,\n",
       " 'f141': 383,\n",
       " 'f142': 428,\n",
       " 'f143': 1701,\n",
       " 'f144': 1054,\n",
       " 'f145': 891,\n",
       " 'f146': 626,\n",
       " 'f147': 518,\n",
       " 'f148': 744,\n",
       " 'f149': 342,\n",
       " 'f15': 852,\n",
       " 'f150': 332,\n",
       " 'f151': 706,\n",
       " 'f152': 673,\n",
       " 'f153': 225,\n",
       " 'f154': 468,\n",
       " 'f155': 516,\n",
       " 'f156': 637,\n",
       " 'f157': 285,\n",
       " 'f158': 284,\n",
       " 'f159': 347,\n",
       " 'f16': 980,\n",
       " 'f160': 454,\n",
       " 'f161': 476,\n",
       " 'f162': 424,\n",
       " 'f163': 395,\n",
       " 'f164': 793,\n",
       " 'f165': 548,\n",
       " 'f166': 387,\n",
       " 'f167': 182,\n",
       " 'f168': 536,\n",
       " 'f169': 604,\n",
       " 'f17': 1226,\n",
       " 'f170': 489,\n",
       " 'f171': 186,\n",
       " 'f172': 414,\n",
       " 'f173': 382,\n",
       " 'f174': 599,\n",
       " 'f175': 198,\n",
       " 'f176': 211,\n",
       " 'f177': 587,\n",
       " 'f178': 733,\n",
       " 'f179': 206,\n",
       " 'f18': 1087,\n",
       " 'f180': 211,\n",
       " 'f181': 586,\n",
       " 'f182': 576,\n",
       " 'f183': 437,\n",
       " 'f184': 191,\n",
       " 'f185': 251,\n",
       " 'f186': 576,\n",
       " 'f187': 777,\n",
       " 'f188': 242,\n",
       " 'f189': 300,\n",
       " 'f19': 1314,\n",
       " 'f190': 571,\n",
       " 'f191': 450,\n",
       " 'f192': 244,\n",
       " 'f193': 727,\n",
       " 'f194': 1199,\n",
       " 'f195': 696,\n",
       " 'f196': 118,\n",
       " 'f197': 336,\n",
       " 'f198': 507,\n",
       " 'f199': 84,\n",
       " 'f2': 990,\n",
       " 'f20': 1232,\n",
       " 'f200': 3332,\n",
       " 'f201': 2855,\n",
       " 'f202': 2616,\n",
       " 'f203': 3823,\n",
       " 'f204': 2593,\n",
       " 'f205': 3171,\n",
       " 'f206': 3679,\n",
       " 'f207': 2699,\n",
       " 'f208': 3522,\n",
       " 'f209': 3169,\n",
       " 'f21': 902,\n",
       " 'f210': 3249,\n",
       " 'f211': 4813,\n",
       " 'f212': 2426,\n",
       " 'f213': 313,\n",
       " 'f22': 1380,\n",
       " 'f23': 869,\n",
       " 'f24': 838,\n",
       " 'f25': 958,\n",
       " 'f26': 886,\n",
       " 'f27': 1052,\n",
       " 'f28': 1109,\n",
       " 'f29': 931,\n",
       " 'f3': 1432,\n",
       " 'f30': 1233,\n",
       " 'f31': 993,\n",
       " 'f32': 1084,\n",
       " 'f33': 780,\n",
       " 'f34': 1265,\n",
       " 'f35': 1215,\n",
       " 'f36': 930,\n",
       " 'f37': 980,\n",
       " 'f38': 1005,\n",
       " 'f39': 785,\n",
       " 'f4': 1034,\n",
       " 'f40': 657,\n",
       " 'f41': 1168,\n",
       " 'f42': 943,\n",
       " 'f43': 955,\n",
       " 'f44': 792,\n",
       " 'f45': 288,\n",
       " 'f46': 145,\n",
       " 'f47': 323,\n",
       " 'f48': 176,\n",
       " 'f49': 300,\n",
       " 'f5': 1172,\n",
       " 'f50': 156,\n",
       " 'f51': 249,\n",
       " 'f52': 165,\n",
       " 'f53': 206,\n",
       " 'f54': 193,\n",
       " 'f55': 277,\n",
       " 'f56': 189,\n",
       " 'f57': 174,\n",
       " 'f58': 249,\n",
       " 'f59': 247,\n",
       " 'f6': 1103,\n",
       " 'f60': 249,\n",
       " 'f61': 251,\n",
       " 'f62': 135,\n",
       " 'f63': 115,\n",
       " 'f64': 72,\n",
       " 'f65': 228,\n",
       " 'f66': 133,\n",
       " 'f67': 148,\n",
       " 'f68': 191,\n",
       " 'f69': 168,\n",
       " 'f7': 802,\n",
       " 'f70': 114,\n",
       " 'f71': 168,\n",
       " 'f72': 75,\n",
       " 'f73': 76,\n",
       " 'f74': 113,\n",
       " 'f75': 204,\n",
       " 'f76': 99,\n",
       " 'f77': 202,\n",
       " 'f78': 99,\n",
       " 'f79': 123,\n",
       " 'f8': 805,\n",
       " 'f80': 73,\n",
       " 'f81': 149,\n",
       " 'f82': 21,\n",
       " 'f83': 161,\n",
       " 'f84': 141,\n",
       " 'f85': 140,\n",
       " 'f86': 11,\n",
       " 'f87': 89,\n",
       " 'f88': 83,\n",
       " 'f89': 234,\n",
       " 'f9': 1757,\n",
       " 'f90': 56,\n",
       " 'f91': 88,\n",
       " 'f92': 207,\n",
       " 'f93': 82,\n",
       " 'f94': 84,\n",
       " 'f95': 138,\n",
       " 'f96': 121,\n",
       " 'f97': 209,\n",
       " 'f98': 216,\n",
       " 'f99': 152}"
      ]
     },
     "execution_count": 40,
     "metadata": {
      "tags": []
     },
     "output_type": "execute_result"
    }
   ],
   "source": [
    "x_model.get_booster().get_score(importance_type=\"weight\")"
   ]
  },
  {
   "cell_type": "code",
   "execution_count": 1,
   "metadata": {
    "colab": {},
    "colab_type": "code",
    "id": "PEUJLQYo5uMi"
   },
   "outputs": [],
   "source": [
    "\n",
    "from prettytable import PrettyTable\n",
    "\n",
    "#If you get a ModuleNotFoundError error , install prettytable using: pip3 install prettytable\n",
    "\n",
    "x = PrettyTable()\n",
    "\n",
    "x.field_names = [\"Regression\",  \"Train WMAE\",\"CV WMAE\",\"Test WMAE\"]\n",
    "\n",
    "x.add_row([\"Linear Regression\", 15743.89, 18670.29, 15794.14])\n",
    "x.add_row([\" \", \" \", \" \", \" \"])\n",
    "\n",
    "x.add_row([\"Random Forest Regressor\", 5494.46, 5142.77, 5335.56])\n",
    "x.add_row([\" \", \" \", \" \", \" \"])\n",
    "\n",
    "x.add_row([\"Xgboost\", 2718.51, 2369.00, 2702.84])\n",
    "x.add_row([\" \", \" \", \" \", \" \"])"
   ]
  },
  {
   "cell_type": "code",
   "execution_count": 2,
   "metadata": {
    "colab": {
     "base_uri": "https://localhost:8080/",
     "height": 185
    },
    "colab_type": "code",
    "id": "1Uso-sKv5uRo",
    "outputId": "921f5bf9-8570-432c-d9e6-4591068dd19b"
   },
   "outputs": [
    {
     "name": "stdout",
     "output_type": "stream",
     "text": [
      "+-------------------------+------------+----------+-----------+\n",
      "|        Regression       | Train WMAE | CV WMAE  | Test WMAE |\n",
      "+-------------------------+------------+----------+-----------+\n",
      "|    Linear Regression    |  15743.89  | 18670.29 |  15794.14 |\n",
      "|                         |            |          |           |\n",
      "| Random Forest Regressor |  5494.46   | 5142.77  |  5335.56  |\n",
      "|                         |            |          |           |\n",
      "|         Xgboost         |  2718.51   |  2369.0  |  2702.84  |\n",
      "|                         |            |          |           |\n",
      "+-------------------------+------------+----------+-----------+\n"
     ]
    }
   ],
   "source": [
    "print(x)"
   ]
  },
  {
   "cell_type": "code",
   "execution_count": null,
   "metadata": {},
   "outputs": [],
   "source": []
  }
 ],
 "metadata": {
  "accelerator": "GPU",
  "colab": {
   "collapsed_sections": [],
   "name": "Case_Study2_model.ipynb",
   "provenance": []
  },
  "kernelspec": {
   "display_name": "Python 3",
   "language": "python",
   "name": "python3"
  },
  "language_info": {
   "codemirror_mode": {
    "name": "ipython",
    "version": 3
   },
   "file_extension": ".py",
   "mimetype": "text/x-python",
   "name": "python",
   "nbconvert_exporter": "python",
   "pygments_lexer": "ipython3",
   "version": "3.6.9"
  }
 },
 "nbformat": 4,
 "nbformat_minor": 1
}
